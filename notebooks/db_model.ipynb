{
 "cells": [
  {
   "cell_type": "code",
   "execution_count": 2,
   "id": "bb8cd0e6",
   "metadata": {},
   "outputs": [],
   "source": [
    "from dataclasses import dataclass, field"
   ]
  },
  {
   "cell_type": "code",
   "execution_count": 3,
   "id": "5d1a0456",
   "metadata": {},
   "outputs": [],
   "source": [
    "@dataclass(init=True, frozen=True)\n",
    "class ImageInfo:\n",
    "    \"\"\"Class Defines Data Object.\"\"\"\n",
    "\n",
    "    file: str = field(compare=True)\n",
    "    imgid: str = field(compare=True)\n",
    "    height: int = 0\n",
    "    width: int = 0\n",
    "    channel: int = 0\n",
    "\n",
    "    @property\n",
    "    def basename(self) -> str:\n",
    "        \"\"\"Returns name of the without extension.\"\"\"\n",
    "        return \".\".join(os.path.basename(self.file).split(\".\")[:-1])\n",
    "\n",
    "    @property\n",
    "    def extension(self) -> str:\n",
    "        \"\"\"Returns extension of image.\"\"\"\n",
    "        return os.path.basename(self.name).split(\".\")[-1]\n",
    "\n",
    "    @property\n",
    "    def image_size(self) -> int:\n",
    "        \"\"\"Returns image size in MB.\"\"\"\n",
    "        return (self.height * self.width * self.channel) // (1024 * 1024)\n"
   ]
  },
  {
   "cell_type": "code",
   "execution_count": 23,
   "id": "27efa097",
   "metadata": {},
   "outputs": [
    {
     "data": {
      "text/plain": [
       "'ImageInfo'"
      ]
     },
     "execution_count": 23,
     "metadata": {},
     "output_type": "execute_result"
    }
   ],
   "source": [
    "ImageInfo.__name__"
   ]
  },
  {
   "cell_type": "code",
   "execution_count": 15,
   "id": "f4d4ce92",
   "metadata": {},
   "outputs": [
    {
     "data": {
      "text/plain": [
       "{'file': Field(name='file',type=<class 'str'>,default=<dataclasses._MISSING_TYPE object at 0x0000018371765F40>,default_factory=<dataclasses._MISSING_TYPE object at 0x0000018371765F40>,init=True,repr=True,hash=None,compare=True,metadata=mappingproxy({}),_field_type=_FIELD),\n",
       " 'imgid': Field(name='imgid',type=<class 'str'>,default=<dataclasses._MISSING_TYPE object at 0x0000018371765F40>,default_factory=<dataclasses._MISSING_TYPE object at 0x0000018371765F40>,init=True,repr=True,hash=None,compare=True,metadata=mappingproxy({}),_field_type=_FIELD),\n",
       " 'height': Field(name='height',type=<class 'int'>,default=0,default_factory=<dataclasses._MISSING_TYPE object at 0x0000018371765F40>,init=True,repr=True,hash=None,compare=True,metadata=mappingproxy({}),_field_type=_FIELD),\n",
       " 'width': Field(name='width',type=<class 'int'>,default=0,default_factory=<dataclasses._MISSING_TYPE object at 0x0000018371765F40>,init=True,repr=True,hash=None,compare=True,metadata=mappingproxy({}),_field_type=_FIELD),\n",
       " 'channel': Field(name='channel',type=<class 'int'>,default=0,default_factory=<dataclasses._MISSING_TYPE object at 0x0000018371765F40>,init=True,repr=True,hash=None,compare=True,metadata=mappingproxy({}),_field_type=_FIELD)}"
      ]
     },
     "execution_count": 15,
     "metadata": {},
     "output_type": "execute_result"
    }
   ],
   "source": [
    "ImageInfo.__dataclass_fields__"
   ]
  },
  {
   "cell_type": "code",
   "execution_count": 22,
   "id": "16551fb6",
   "metadata": {},
   "outputs": [
    {
     "name": "stdout",
     "output_type": "stream",
     "text": [
      "file file <class 'str'>\n",
      "imgid imgid <class 'str'>\n",
      "height height <class 'int'>\n",
      "width width <class 'int'>\n",
      "channel channel <class 'int'>\n"
     ]
    }
   ],
   "source": [
    "for k, v in ImageInfo.__dataclass_fields__.items():\n",
    "    print(k,v.name, v.type)"
   ]
  },
  {
   "cell_type": "code",
   "execution_count": 14,
   "id": "8ccb9fcc",
   "metadata": {},
   "outputs": [
    {
     "ename": "ValueError",
     "evalue": "too many values to unpack (expected 2)",
     "output_type": "error",
     "traceback": [
      "\u001b[1;31m---------------------------------------------------------------------------\u001b[0m",
      "\u001b[1;31mValueError\u001b[0m                                Traceback (most recent call last)",
      "Input \u001b[1;32mIn [14]\u001b[0m, in \u001b[0;36m<cell line: 1>\u001b[1;34m()\u001b[0m\n\u001b[1;32m----> 1\u001b[0m model_attrs \u001b[38;5;241m=\u001b[39m {k: (v\u001b[38;5;241m.\u001b[39mname, v\u001b[38;5;241m.\u001b[39mtype) \u001b[38;5;28;01mfor\u001b[39;00m k, v \u001b[38;5;129;01min\u001b[39;00m ImageInfo\u001b[38;5;241m.\u001b[39m__dataclass_fields__}\n",
      "Input \u001b[1;32mIn [14]\u001b[0m, in \u001b[0;36m<dictcomp>\u001b[1;34m(.0)\u001b[0m\n\u001b[1;32m----> 1\u001b[0m model_attrs \u001b[38;5;241m=\u001b[39m {k: (v\u001b[38;5;241m.\u001b[39mname, v\u001b[38;5;241m.\u001b[39mtype) \u001b[38;5;28;01mfor\u001b[39;00m k, v \u001b[38;5;129;01min\u001b[39;00m ImageInfo\u001b[38;5;241m.\u001b[39m__dataclass_fields__}\n",
      "\u001b[1;31mValueError\u001b[0m: too many values to unpack (expected 2)"
     ]
    }
   ],
   "source": [
    "odel_attrs = {k: (v.name, v.type) for k, v in ImageInfo.__dataclass_fields__}"
   ]
  },
  {
   "cell_type": "code",
   "execution_count": null,
   "id": "ddd3049b",
   "metadata": {},
   "outputs": [],
   "source": []
  }
 ],
 "metadata": {
  "kernelspec": {
   "display_name": "sfm",
   "language": "python",
   "name": "sfm"
  },
  "language_info": {
   "codemirror_mode": {
    "name": "ipython",
    "version": 3
   },
   "file_extension": ".py",
   "mimetype": "text/x-python",
   "name": "python",
   "nbconvert_exporter": "python",
   "pygments_lexer": "ipython3",
   "version": "3.9.5"
  },
  "toc": {
   "base_numbering": 1,
   "nav_menu": {},
   "number_sections": true,
   "sideBar": true,
   "skip_h1_title": false,
   "title_cell": "Table of Contents",
   "title_sidebar": "Contents",
   "toc_cell": false,
   "toc_position": {},
   "toc_section_display": true,
   "toc_window_display": false
  }
 },
 "nbformat": 4,
 "nbformat_minor": 5
}
