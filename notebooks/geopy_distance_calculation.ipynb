{
 "cells": [
  {
   "cell_type": "code",
   "execution_count": 1,
   "id": "a6cfdf4f",
   "metadata": {},
   "outputs": [],
   "source": [
    "import os\n",
    "import json\n",
    "from typing import Optional, Tuple\n",
    "import numpy as np\n",
    "\n",
    "import pyproj"
   ]
  },
  {
   "cell_type": "code",
   "execution_count": 2,
   "id": "65599c00",
   "metadata": {},
   "outputs": [],
   "source": [
    "meataDta_file = \"C:/Users/admin/Desktop/codespace/python/output_sfm/exif_data.json\""
   ]
  },
  {
   "cell_type": "code",
   "execution_count": 3,
   "id": "33661349",
   "metadata": {},
   "outputs": [
    {
     "name": "stdout",
     "output_type": "stream",
     "text": [
      "19\n",
      "{'file': 'IMG_20200328_172713', 'image_id': 'IMAGE001', 'exif_version': '0220', 'make': 'Xiaomi', 'model': 'Redmi 4', 'width': 2340, 'height': 4160, 'orientation': 1, 'capture_time': 1585416433.065576, 'altitude': 0.0, 'altitude_ref': 2.0, 'latitude': [22.0, 34.0, 8.8892], 'latitude_ref': 'N', 'longitude': [88.0, 17.0, 0.038], 'longitude_ref': 'E', 'dop': None}\n"
     ]
    }
   ],
   "source": [
    "if os.path.isfile(meataDta_file) is not True:\n",
    "    raise NotADirectoryError(f\"The File {meataDta_file} not found\")\n",
    "\n",
    "metadata = []\n",
    "with open(meataDta_file) as f:\n",
    "    metadata = json.load(f)\n",
    "print(len(metadata))\n",
    "print(metadata[0])"
   ]
  },
  {
   "cell_type": "code",
   "execution_count": 4,
   "id": "115d6e17",
   "metadata": {},
   "outputs": [],
   "source": [
    "def decimal_coords(coords: Tuple[float, float, float], ref: Optional[str]) -> float:\n",
    "        \"\"\"Convert Latitude Longitude to Degree.\"\"\"\n",
    "        decimal_degrees = coords[0] + coords[1] / 60.0 + coords[2] / 3600.0\n",
    "        if ref == \"S\" or ref == \"W\":\n",
    "            decimal_degrees = -decimal_degrees\n",
    "        return decimal_degrees"
   ]
  },
  {
   "cell_type": "code",
   "execution_count": 5,
   "id": "041e45fe",
   "metadata": {},
   "outputs": [
    {
     "name": "stdout",
     "output_type": "stream",
     "text": [
      "latitude [22.0, 34.0, 8.8892] N ==> 22.569135888888887\n",
      "longitude [88.0, 17.0, 0.038] E ==> 88.2833438888889\n",
      "altitude 0.0 2.0 ==> 0.0\n"
     ]
    }
   ],
   "source": [
    "obj=metadata[0]\n",
    "latitude = decimal_coords(obj.get(\"latitude\"),obj.get(\"latitude_ref\"))\n",
    "print(f'latitude {obj.get(\"latitude\")} {obj.get(\"latitude_ref\")} ==> {latitude}')\n",
    "obj=metadata[0]\n",
    "longitude = decimal_coords(obj.get(\"longitude\"),obj.get(\"longitude_ref\"))\n",
    "print(f'longitude {obj.get(\"longitude\")} {obj.get(\"longitude_ref\")} ==> {longitude}')\n",
    "altitude=float(obj.get(\"altitude\"))\n",
    "if float(obj.get(\"altitude_ref\")) == 1:\n",
    "    altitude = -altitude\n",
    "print(f'altitude {obj.get(\"altitude\")} {obj.get(\"altitude_ref\")} ==> {altitude}')    \n"
   ]
  },
  {
   "cell_type": "code",
   "execution_count": 6,
   "id": "24280613",
   "metadata": {},
   "outputs": [],
   "source": [
    "WGS84_a = 6378137.0\n",
    "WGS84_b = 6356752.314245\n",
    "\n",
    "\n",
    "def ecef_from_lla(lat, lon, alt):\n",
    "    \"\"\"\n",
    "    Compute ECEF XYZ from latitude, longitude and altitude.\n",
    "    All using the WGS84 model.\n",
    "    Altitude is the distance to the WGS84 ellipsoid.\n",
    "    Check results here http://www.oc.nps.edu/oc2902w/coord/llhxyz.htm\n",
    "    >>> lat, lon, alt = 10, 20, 30\n",
    "    >>> x, y, z = ecef_from_lla(lat, lon, alt)\n",
    "    >>> np.allclose(lla_from_ecef(x,y,z), [lat, lon, alt])\n",
    "    True\n",
    "    \"\"\"\n",
    "    a2 = WGS84_a ** 2\n",
    "    b2 = WGS84_b ** 2\n",
    "    lat = np.radians(lat)\n",
    "    lon = np.radians(lon)\n",
    "    L = 1.0 / np.sqrt(a2 * np.cos(lat) ** 2 + b2 * np.sin(lat) ** 2)\n",
    "    x = (a2 * L + alt) * np.cos(lat) * np.cos(lon)\n",
    "    y = (a2 * L + alt) * np.cos(lat) * np.sin(lon)\n",
    "    z = (b2 * L + alt) * np.sin(lat)\n",
    "    return x, y, z\n",
    "\n",
    "def ecef_from_topocentric_transform(lat, lon, alt):\n",
    "    \"\"\"\n",
    "    Transformation from a topocentric frame at reference position to ECEF.\n",
    "    The topocentric reference frame is a metric one with the origin\n",
    "    at the given (lat, lon, alt) position, with the X axis heading east,\n",
    "    the Y axis heading north and the Z axis vertical to the ellipsoid.\n",
    "    >>> a = ecef_from_topocentric_transform(30, 20, 10)\n",
    "    >>> b = ecef_from_topocentric_transform_finite_diff(30, 20, 10)\n",
    "    >>> np.allclose(a, b)\n",
    "    True\n",
    "    \"\"\"\n",
    "    x, y, z = ecef_from_lla(lat, lon, alt)\n",
    "    sa = np.sin(np.radians(lat))\n",
    "    ca = np.cos(np.radians(lat))\n",
    "    so = np.sin(np.radians(lon))\n",
    "    co = np.cos(np.radians(lon))\n",
    "    return np.array(\n",
    "        [\n",
    "            [-so, -sa * co, ca * co, x],\n",
    "            [co, -sa * so, ca * so, y],\n",
    "            [0, ca, sa, z],\n",
    "            [0, 0, 0, 1],\n",
    "        ]\n",
    "    )\n",
    "\n",
    "def topocentric_from_lla(lat, lon, alt, reflat, reflon, refalt):\n",
    "    \"\"\"\n",
    "    Transform from lat, lon, alt to topocentric XYZ.\n",
    "    >>> lat, lon, alt = -10, 20, 100\n",
    "    >>> np.allclose(topocentric_from_lla(lat, lon, alt, lat, lon, alt),\n",
    "    ...     [0,0,0])\n",
    "    True\n",
    "    >>> x, y, z = topocentric_from_lla(lat, lon, alt, 0, 0, 0)\n",
    "    >>> np.allclose(lla_from_topocentric(x, y, z, 0, 0, 0),\n",
    "    ...     [lat, lon, alt])\n",
    "    True\n",
    "    \"\"\"\n",
    "    T = np.linalg.inv(ecef_from_topocentric_transform(reflat, reflon, refalt))\n",
    "    x, y, z = ecef_from_lla(lat, lon, alt)\n",
    "    tx = T[0, 0] * x + T[0, 1] * y + T[0, 2] * z + T[0, 3]\n",
    "    ty = T[1, 0] * x + T[1, 1] * y + T[1, 2] * z + T[1, 3]\n",
    "    tz = T[2, 0] * x + T[2, 1] * y + T[2, 2] * z + T[2, 3]\n",
    "    return tx, ty, tz"
   ]
  },
  {
   "cell_type": "code",
   "execution_count": 7,
   "id": "39b4f054",
   "metadata": {},
   "outputs": [
    {
     "name": "stdout",
     "output_type": "stream",
     "text": [
      "(176523.15429462085, 5889942.134759544, 2432728.374973132)<=ecef_from_lla(22.569135888888887,88.2833438888889,0.0)\n"
     ]
    }
   ],
   "source": [
    "CECF=ecef_from_lla(latitude,longitude,altitude)\n",
    "print(f\"{CECF}<=ecef_from_lla({latitude},{longitude},{altitude})\")"
   ]
  },
  {
   "cell_type": "code",
   "execution_count": 15,
   "id": "1fdefa43",
   "metadata": {},
   "outputs": [
    {
     "name": "stdout",
     "output_type": "stream",
     "text": [
      "88.2833438888889 22.569135888887743 -2.60770320892334e-08\n",
      "176523.15429462015 5889942.13475952 2432728.3749732594\n"
     ]
    },
    {
     "ename": "ProjError",
     "evalue": "x, y, z, and time must be same size if included.",
     "output_type": "error",
     "traceback": [
      "\u001b[1;31m---------------------------------------------------------------------------\u001b[0m",
      "\u001b[1;31mProjError\u001b[0m                                 Traceback (most recent call last)",
      "\u001b[1;32m<ipython-input-15-fff447f5ec35>\u001b[0m in \u001b[0;36m<module>\u001b[1;34m\u001b[0m\n\u001b[0;32m     15\u001b[0m \u001b[0mx\u001b[0m\u001b[1;33m,\u001b[0m\u001b[0my\u001b[0m\u001b[1;33m,\u001b[0m\u001b[0mz\u001b[0m \u001b[1;33m=\u001b[0m \u001b[0mtransformer2\u001b[0m\u001b[1;33m.\u001b[0m\u001b[0mtransform\u001b[0m\u001b[1;33m(\u001b[0m\u001b[0mlongitude\u001b[0m\u001b[1;33m,\u001b[0m\u001b[0mlatitude\u001b[0m\u001b[1;33m,\u001b[0m\u001b[0maltitude\u001b[0m\u001b[1;33m,\u001b[0m\u001b[0mradians\u001b[0m\u001b[1;33m=\u001b[0m\u001b[1;32mFalse\u001b[0m\u001b[1;33m)\u001b[0m\u001b[1;33m\u001b[0m\u001b[1;33m\u001b[0m\u001b[0m\n\u001b[0;32m     16\u001b[0m \u001b[0mprint\u001b[0m\u001b[1;33m(\u001b[0m\u001b[0mx\u001b[0m\u001b[1;33m,\u001b[0m\u001b[0my\u001b[0m\u001b[1;33m,\u001b[0m\u001b[0mz\u001b[0m\u001b[1;33m)\u001b[0m\u001b[1;33m\u001b[0m\u001b[1;33m\u001b[0m\u001b[0m\n\u001b[1;32m---> 17\u001b[1;33m \u001b[0mx1\u001b[0m\u001b[1;33m,\u001b[0m\u001b[0my1\u001b[0m\u001b[1;33m,\u001b[0m\u001b[0mz1\u001b[0m \u001b[1;33m=\u001b[0m \u001b[0mtransformer2\u001b[0m\u001b[1;33m.\u001b[0m\u001b[0mtransform\u001b[0m\u001b[1;33m(\u001b[0m \u001b[1;33m[\u001b[0m\u001b[1;36m88.0\u001b[0m\u001b[1;33m,\u001b[0m \u001b[1;36m17.0\u001b[0m\u001b[1;33m,\u001b[0m \u001b[1;36m0.038\u001b[0m\u001b[1;33m]\u001b[0m\u001b[1;33m,\u001b[0m\u001b[1;33m[\u001b[0m\u001b[1;36m22.0\u001b[0m\u001b[1;33m,\u001b[0m \u001b[1;36m34.0\u001b[0m\u001b[1;33m,\u001b[0m \u001b[1;36m8.8892\u001b[0m\u001b[1;33m]\u001b[0m\u001b[1;33m,\u001b[0m\u001b[1;36m0.0\u001b[0m\u001b[1;33m,\u001b[0m\u001b[0mradians\u001b[0m\u001b[1;33m=\u001b[0m\u001b[1;32mFalse\u001b[0m\u001b[1;33m)\u001b[0m\u001b[1;33m\u001b[0m\u001b[1;33m\u001b[0m\u001b[0m\n\u001b[0m\u001b[0;32m     18\u001b[0m \u001b[0mprint\u001b[0m\u001b[1;33m(\u001b[0m\u001b[0mx1\u001b[0m\u001b[1;33m,\u001b[0m\u001b[0my1\u001b[0m\u001b[1;33m,\u001b[0m\u001b[0mz1\u001b[0m\u001b[1;33m)\u001b[0m\u001b[1;33m\u001b[0m\u001b[1;33m\u001b[0m\u001b[0m\n",
      "\u001b[1;32mc:\\users\\admin\\appdata\\local\\programs\\python\\python39\\lib\\site-packages\\pyproj\\transformer.py\u001b[0m in \u001b[0;36mtransform\u001b[1;34m(self, xx, yy, zz, tt, radians, errcheck, direction, inplace)\u001b[0m\n\u001b[0;32m    715\u001b[0m             \u001b[0mintime\u001b[0m \u001b[1;33m=\u001b[0m \u001b[1;32mNone\u001b[0m\u001b[1;33m\u001b[0m\u001b[1;33m\u001b[0m\u001b[0m\n\u001b[0;32m    716\u001b[0m         \u001b[1;31m# call pj_transform.  inx,iny,inz buffers modified in place.\u001b[0m\u001b[1;33m\u001b[0m\u001b[1;33m\u001b[0m\u001b[1;33m\u001b[0m\u001b[0m\n\u001b[1;32m--> 717\u001b[1;33m         self._transformer._transform(\n\u001b[0m\u001b[0;32m    718\u001b[0m             \u001b[0minx\u001b[0m\u001b[1;33m,\u001b[0m\u001b[1;33m\u001b[0m\u001b[1;33m\u001b[0m\u001b[0m\n\u001b[0;32m    719\u001b[0m             \u001b[0miny\u001b[0m\u001b[1;33m,\u001b[0m\u001b[1;33m\u001b[0m\u001b[1;33m\u001b[0m\u001b[0m\n",
      "\u001b[1;32mpyproj\\_transformer.pyx\u001b[0m in \u001b[0;36mpyproj._transformer._Transformer._transform\u001b[1;34m()\u001b[0m\n",
      "\u001b[1;31mProjError\u001b[0m: x, y, z, and time must be same size if included."
     ]
    }
   ],
   "source": [
    "transformer1 = pyproj.Transformer.from_crs(\n",
    "    {\"proj\":'geocent', \"ellps\":'WGS84', \"datum\":'WGS84'},\n",
    "    {\"proj\":'latlong', \"ellps\":'WGS84', \"datum\":'WGS84'},\n",
    "    )\n",
    "x = 176523.15429462085\n",
    "y = 5889942.134759544\n",
    "z = 2432728.374973132\n",
    "lon1, lat1, alt1 = transformer1.transform(x,y,z,radians=False)\n",
    "print(lon1, lat1, alt1)\n",
    "\n",
    "transformer2 = pyproj.Transformer.from_crs(\n",
    "    {\"proj\":'latlong', \"ellps\":'WGS84', \"datum\":'WGS84'},\n",
    "    {\"proj\":'geocent', \"ellps\":'WGS84', \"datum\":'WGS84'},\n",
    "    )\n",
    "x,y,z = transformer2.transform(longitude,latitude,altitude,radians=False)\n",
    "print(x,y,z)\n"
   ]
  },
  {
   "cell_type": "code",
   "execution_count": null,
   "id": "567e8079",
   "metadata": {},
   "outputs": [],
   "source": []
  }
 ],
 "metadata": {
  "kernelspec": {
   "display_name": "Python 3",
   "language": "python",
   "name": "python3"
  },
  "language_info": {
   "codemirror_mode": {
    "name": "ipython",
    "version": 3
   },
   "file_extension": ".py",
   "mimetype": "text/x-python",
   "name": "python",
   "nbconvert_exporter": "python",
   "pygments_lexer": "ipython3",
   "version": "3.9.5"
  },
  "toc": {
   "base_numbering": 1,
   "nav_menu": {},
   "number_sections": true,
   "sideBar": true,
   "skip_h1_title": false,
   "title_cell": "Table of Contents",
   "title_sidebar": "Contents",
   "toc_cell": false,
   "toc_position": {},
   "toc_section_display": true,
   "toc_window_display": false
  }
 },
 "nbformat": 4,
 "nbformat_minor": 5
}
