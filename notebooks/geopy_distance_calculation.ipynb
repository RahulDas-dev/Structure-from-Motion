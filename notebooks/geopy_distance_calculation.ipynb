{
 "cells": [
  {
   "cell_type": "code",
   "execution_count": 23,
   "id": "a6cfdf4f",
   "metadata": {},
   "outputs": [],
   "source": [
    "import os\n",
    "import json\n",
    "\n",
    "\n",
    "from geopy.distance import geodesic"
   ]
  },
  {
   "cell_type": "code",
   "execution_count": 24,
   "id": "65599c00",
   "metadata": {},
   "outputs": [],
   "source": [
    "meataDta_file = \"C:/Users/admin/Desktop/codespace/python/output_sfm/exif_data.json\""
   ]
  },
  {
   "cell_type": "code",
   "execution_count": 25,
   "id": "33661349",
   "metadata": {},
   "outputs": [
    {
     "name": "stdout",
     "output_type": "stream",
     "text": [
      "19\n"
     ]
    }
   ],
   "source": [
    "if os.path.isfile(meataDta_file) is not True:\n",
    "    raise NotADirectoryError(f\"The File {meataDta_file} not found\")\n",
    "\n",
    "metadata = []\n",
    "with open(meataDta_file) as f:\n",
    "    metadata = json.load(f)\n",
    "print(len(metadata))"
   ]
  },
  {
   "cell_type": "code",
   "execution_count": 26,
   "id": "d5e5e121",
   "metadata": {},
   "outputs": [
    {
     "name": "stdout",
     "output_type": "stream",
     "text": [
      "19\n",
      "{'file': 'IMG_20200328_172739', 'altitude': 0.0, 'latitude': 22.569120388888887, 'longitude': 88.28327419444445}\n"
     ]
    }
   ],
   "source": [
    "metadata_gps = list(map(lambda x: {\"file\": x[\"file\"], **x[\"gps\"]}, metadata))\n",
    "print(len(metadata_gps))\n",
    "print(metadata_gps[2])"
   ]
  },
  {
   "cell_type": "code",
   "execution_count": 28,
   "id": "517fb64d",
   "metadata": {},
   "outputs": [
    {
     "name": "stdout",
     "output_type": "stream",
     "text": [
      "19\n",
      "{'file': 'IMG_20200328_172739', 'gps': (22.569120388888887, 88.28327419444445)}\n"
     ]
    }
   ],
   "source": [
    "metadata_gps = list(\n",
    "    map(\n",
    "        lambda x: {\n",
    "            \"file\": x[\"file\"],\n",
    "            \"gps\": (x[\"gps\"][\"latitude\"], x[\"gps\"][\"longitude\"]),\n",
    "        },\n",
    "        metadata,\n",
    "    )\n",
    ")\n",
    "print(len(metadata_gps))\n",
    "print(metadata_gps[2])"
   ]
  },
  {
   "cell_type": "code",
   "execution_count": 44,
   "id": "890323cb",
   "metadata": {},
   "outputs": [
    {
     "name": "stdout",
     "output_type": "stream",
     "text": [
      "(22.569135888888887, 88.2833438888889) (22.56898877777778, 88.28331838888889)\n",
      "Distance between origin and Destination: 16.500538196179203 meters\n"
     ]
    }
   ],
   "source": [
    "origin = metadata_gps[0][\"gps\"]\n",
    "desti = metadata_gps[8][\"gps\"]\n",
    "print(origin, desti)\n",
    "\n",
    "distance = geodesic(origin, desti).meters\n",
    "print(f\"Distance between origin and Destination: {distance} meters\")"
   ]
  },
  {
   "cell_type": "code",
   "execution_count": 48,
   "id": "dfe83e98",
   "metadata": {},
   "outputs": [
    {
     "name": "stdout",
     "output_type": "stream",
     "text": [
      "Distance between IMG_20200328_172726,IMG_20200328_172713 and Destination: 0.0 meters\n",
      "Distance between IMG_20200328_172739,IMG_20200328_172713 and Destination: 7.370379528047999 meters\n",
      "Distance between IMG_20200328_172754,IMG_20200328_172713 and Destination: 19.55259756160371 meters\n",
      "Distance between IMG_20200328_172806,IMG_20200328_172713 and Destination: 19.55259756160371 meters\n",
      "Distance between IMG_20200328_172819,IMG_20200328_172713 and Destination: 9.157562729195647 meters\n",
      "Distance between IMG_20200328_172829,IMG_20200328_172713 and Destination: 14.037025310184022 meters\n",
      "Distance between IMG_20200328_172841,IMG_20200328_172713 and Destination: 14.037025310184022 meters\n",
      "Distance between IMG_20200328_172851,IMG_20200328_172713 and Destination: 16.500538196179203 meters\n",
      "Distance between IMG_20200328_172858,IMG_20200328_172713 and Destination: 16.500538196179203 meters\n",
      "Distance between IMG_20200328_172906,IMG_20200328_172713 and Destination: 16.500538196179203 meters\n",
      "Distance between IMG_20200328_172912,IMG_20200328_172713 and Destination: 19.746161355086684 meters\n",
      "Distance between IMG_20200328_172919,IMG_20200328_172713 and Destination: 19.746161355086684 meters\n",
      "Distance between IMG_20200328_172924,IMG_20200328_172713 and Destination: 19.746161355086684 meters\n",
      "Distance between IMG_20200328_173044,IMG_20200328_172713 and Destination: 18.38531416563206 meters\n",
      "Distance between IMG_20200328_173053,IMG_20200328_172713 and Destination: 19.380115782214858 meters\n",
      "Distance between IMG_20200328_173059,IMG_20200328_172713 and Destination: 19.380115782214858 meters\n",
      "Distance between IMG_20200328_173106,IMG_20200328_172713 and Destination: 19.380115782214858 meters\n",
      "Distance between IMG_20200328_173114,IMG_20200328_172713 and Destination: 16.5470100060773 meters\n"
     ]
    }
   ],
   "source": [
    "origin = metadata_gps[2][\"gps\"]\n",
    "origin_name = metadata_gps[0][\"file\"]\n",
    "distance_list = []\n",
    "\n",
    "for i in range(1, 19):\n",
    "    desti = metadata_gps[i][\"gps\"]\n",
    "    desti_name = metadata_gps[i][\"file\"]\n",
    "    distance = geodesic(origin, desti).meters\n",
    "    print(\n",
    "        f\"Distance between {desti_name},{origin_name} and Destination: {distance} meters\"\n",
    "    )\n",
    "    distance_list.append((origin_name, desti_name, distance))"
   ]
  },
  {
   "cell_type": "code",
   "execution_count": 67,
   "id": "4083efcd",
   "metadata": {},
   "outputs": [
    {
     "name": "stdout",
     "output_type": "stream",
     "text": [
      "Distance between IMG_20200328_172726,IMG_20200328_172713 and Destination: 0.0 meters\n",
      "Distance between IMG_20200328_172739,IMG_20200328_172713 and Destination: 7.370379528047999 meters\n",
      "Distance between IMG_20200328_172754,IMG_20200328_172713 and Destination: 19.55259756160371 meters\n",
      "Distance between IMG_20200328_172806,IMG_20200328_172713 and Destination: 19.55259756160371 meters\n",
      "Distance between IMG_20200328_172819,IMG_20200328_172713 and Destination: 9.157562729195647 meters\n",
      "Distance between IMG_20200328_172829,IMG_20200328_172713 and Destination: 14.037025310184022 meters\n",
      "Distance between IMG_20200328_172841,IMG_20200328_172713 and Destination: 14.037025310184022 meters\n",
      "Distance between IMG_20200328_172851,IMG_20200328_172713 and Destination: 16.500538196179203 meters\n",
      "Distance between IMG_20200328_172858,IMG_20200328_172713 and Destination: 16.500538196179203 meters\n",
      "Distance between IMG_20200328_172906,IMG_20200328_172713 and Destination: 16.500538196179203 meters\n",
      "Distance between IMG_20200328_172912,IMG_20200328_172713 and Destination: 19.746161355086684 meters\n",
      "Distance between IMG_20200328_172919,IMG_20200328_172713 and Destination: 19.746161355086684 meters\n",
      "Distance between IMG_20200328_172924,IMG_20200328_172713 and Destination: 19.746161355086684 meters\n",
      "Distance between IMG_20200328_173044,IMG_20200328_172713 and Destination: 18.38531416563206 meters\n",
      "Distance between IMG_20200328_173053,IMG_20200328_172713 and Destination: 19.380115782214858 meters\n",
      "Distance between IMG_20200328_173059,IMG_20200328_172713 and Destination: 19.380115782214858 meters\n",
      "Distance between IMG_20200328_173106,IMG_20200328_172713 and Destination: 19.380115782214858 meters\n",
      "Distance between IMG_20200328_173114,IMG_20200328_172713 and Destination: 16.5470100060773 meters\n",
      "Distance between IMG_20200328_172739,IMG_20200328_172726 and Destination: 7.370379528047999 meters\n",
      "Distance between IMG_20200328_172754,IMG_20200328_172726 and Destination: 19.55259756160371 meters\n",
      "Distance between IMG_20200328_172806,IMG_20200328_172726 and Destination: 19.55259756160371 meters\n",
      "Distance between IMG_20200328_172819,IMG_20200328_172726 and Destination: 9.157562729195647 meters\n",
      "Distance between IMG_20200328_172829,IMG_20200328_172726 and Destination: 14.037025310184022 meters\n",
      "Distance between IMG_20200328_172841,IMG_20200328_172726 and Destination: 14.037025310184022 meters\n",
      "Distance between IMG_20200328_172851,IMG_20200328_172726 and Destination: 16.500538196179203 meters\n",
      "Distance between IMG_20200328_172858,IMG_20200328_172726 and Destination: 16.500538196179203 meters\n",
      "Distance between IMG_20200328_172906,IMG_20200328_172726 and Destination: 16.500538196179203 meters\n",
      "Distance between IMG_20200328_172912,IMG_20200328_172726 and Destination: 19.746161355086684 meters\n",
      "Distance between IMG_20200328_172919,IMG_20200328_172726 and Destination: 19.746161355086684 meters\n",
      "Distance between IMG_20200328_172924,IMG_20200328_172726 and Destination: 19.746161355086684 meters\n",
      "Distance between IMG_20200328_173044,IMG_20200328_172726 and Destination: 18.38531416563206 meters\n",
      "Distance between IMG_20200328_173053,IMG_20200328_172726 and Destination: 19.380115782214858 meters\n",
      "Distance between IMG_20200328_173059,IMG_20200328_172726 and Destination: 19.380115782214858 meters\n",
      "Distance between IMG_20200328_173106,IMG_20200328_172726 and Destination: 19.380115782214858 meters\n",
      "Distance between IMG_20200328_173114,IMG_20200328_172726 and Destination: 16.5470100060773 meters\n",
      "Distance between IMG_20200328_172754,IMG_20200328_172739 and Destination: 20.323534537288886 meters\n",
      "Distance between IMG_20200328_172806,IMG_20200328_172739 and Destination: 20.323534537288886 meters\n",
      "Distance between IMG_20200328_172819,IMG_20200328_172739 and Destination: 8.909389100220034 meters\n",
      "Distance between IMG_20200328_172829,IMG_20200328_172739 and Destination: 12.135285946585151 meters\n",
      "Distance between IMG_20200328_172841,IMG_20200328_172739 and Destination: 12.135285946585151 meters\n",
      "Distance between IMG_20200328_172851,IMG_20200328_172739 and Destination: 15.266647003157997 meters\n",
      "Distance between IMG_20200328_172858,IMG_20200328_172739 and Destination: 15.266647003157997 meters\n",
      "Distance between IMG_20200328_172906,IMG_20200328_172739 and Destination: 15.266647003157997 meters\n",
      "Distance between IMG_20200328_172912,IMG_20200328_172739 and Destination: 21.043267272264373 meters\n",
      "Distance between IMG_20200328_172919,IMG_20200328_172739 and Destination: 21.043267272264373 meters\n",
      "Distance between IMG_20200328_172924,IMG_20200328_172739 and Destination: 21.043267272264373 meters\n",
      "Distance between IMG_20200328_173044,IMG_20200328_172739 and Destination: 17.769514353591088 meters\n",
      "Distance between IMG_20200328_173053,IMG_20200328_172739 and Destination: 18.56925296003499 meters\n",
      "Distance between IMG_20200328_173059,IMG_20200328_172739 and Destination: 18.56925296003499 meters\n",
      "Distance between IMG_20200328_173106,IMG_20200328_172739 and Destination: 18.56925296003499 meters\n",
      "Distance between IMG_20200328_173114,IMG_20200328_172739 and Destination: 14.571477091082306 meters\n",
      "Distance between IMG_20200328_172806,IMG_20200328_172754 and Destination: 0.0 meters\n",
      "Distance between IMG_20200328_172819,IMG_20200328_172754 and Destination: 27.83275921950305 meters\n",
      "Distance between IMG_20200328_172829,IMG_20200328_172754 and Destination: 9.161891194955844 meters\n",
      "Distance between IMG_20200328_172841,IMG_20200328_172754 and Destination: 9.161891194955844 meters\n",
      "Distance between IMG_20200328_172851,IMG_20200328_172754 and Destination: 6.373048649000376 meters\n",
      "Distance between IMG_20200328_172858,IMG_20200328_172754 and Destination: 6.373048649000376 meters\n",
      "Distance between IMG_20200328_172906,IMG_20200328_172754 and Destination: 6.373048649000376 meters\n",
      "Distance between IMG_20200328_172912,IMG_20200328_172754 and Destination: 1.5258581872357502 meters\n",
      "Distance between IMG_20200328_172919,IMG_20200328_172754 and Destination: 1.5258581872357502 meters\n",
      "Distance between IMG_20200328_172924,IMG_20200328_172754 and Destination: 1.5258581872357502 meters\n",
      "Distance between IMG_20200328_173044,IMG_20200328_172754 and Destination: 4.044388007216993 meters\n",
      "Distance between IMG_20200328_173053,IMG_20200328_172754 and Destination: 4.288089879301216 meters\n",
      "Distance between IMG_20200328_173059,IMG_20200328_172754 and Destination: 4.288089879301216 meters\n",
      "Distance between IMG_20200328_173106,IMG_20200328_172754 and Destination: 4.288089879301216 meters\n",
      "Distance between IMG_20200328_173114,IMG_20200328_172754 and Destination: 7.961117636893535 meters\n",
      "Distance between IMG_20200328_172819,IMG_20200328_172806 and Destination: 27.83275921950305 meters\n",
      "Distance between IMG_20200328_172829,IMG_20200328_172806 and Destination: 9.161891194955844 meters\n",
      "Distance between IMG_20200328_172841,IMG_20200328_172806 and Destination: 9.161891194955844 meters\n",
      "Distance between IMG_20200328_172851,IMG_20200328_172806 and Destination: 6.373048649000376 meters\n",
      "Distance between IMG_20200328_172858,IMG_20200328_172806 and Destination: 6.373048649000376 meters\n",
      "Distance between IMG_20200328_172906,IMG_20200328_172806 and Destination: 6.373048649000376 meters\n",
      "Distance between IMG_20200328_172912,IMG_20200328_172806 and Destination: 1.5258581872357502 meters\n",
      "Distance between IMG_20200328_172919,IMG_20200328_172806 and Destination: 1.5258581872357502 meters\n",
      "Distance between IMG_20200328_172924,IMG_20200328_172806 and Destination: 1.5258581872357502 meters\n",
      "Distance between IMG_20200328_173044,IMG_20200328_172806 and Destination: 4.044388007216993 meters\n",
      "Distance between IMG_20200328_173053,IMG_20200328_172806 and Destination: 4.288089879301216 meters\n",
      "Distance between IMG_20200328_173059,IMG_20200328_172806 and Destination: 4.288089879301216 meters\n",
      "Distance between IMG_20200328_173106,IMG_20200328_172806 and Destination: 4.288089879301216 meters\n",
      "Distance between IMG_20200328_173114,IMG_20200328_172806 and Destination: 7.961117636893535 meters\n",
      "Distance between IMG_20200328_172829,IMG_20200328_172819 and Destination: 20.604643287992456 meters\n",
      "Distance between IMG_20200328_172841,IMG_20200328_172819 and Destination: 20.604643287992456 meters\n",
      "Distance between IMG_20200328_172851,IMG_20200328_172819 and Destination: 23.592882332722937 meters\n",
      "Distance between IMG_20200328_172858,IMG_20200328_172819 and Destination: 23.592882332722937 meters\n",
      "Distance between IMG_20200328_172906,IMG_20200328_172819 and Destination: 23.592882332722937 meters\n",
      "Distance between IMG_20200328_172912,IMG_20200328_172819 and Destination: 28.258362481995118 meters\n",
      "Distance between IMG_20200328_172919,IMG_20200328_172819 and Destination: 28.258362481995118 meters\n",
      "Distance between IMG_20200328_172924,IMG_20200328_172819 and Destination: 28.258362481995118 meters\n",
      "Distance between IMG_20200328_173044,IMG_20200328_172819 and Destination: 25.906952623873323 meters\n",
      "Distance between IMG_20200328_173053,IMG_20200328_172819 and Destination: 26.802722793248567 meters\n",
      "Distance between IMG_20200328_173059,IMG_20200328_172819 and Destination: 26.802722793248567 meters\n",
      "Distance between IMG_20200328_173106,IMG_20200328_172819 and Destination: 26.802722793248567 meters\n",
      "Distance between IMG_20200328_173114,IMG_20200328_172819 and Destination: 23.131724318288597 meters\n",
      "Distance between IMG_20200328_172841,IMG_20200328_172829 and Destination: 0.0 meters\n",
      "Distance between IMG_20200328_172851,IMG_20200328_172829 and Destination: 3.182683252883396 meters\n",
      "Distance between IMG_20200328_172858,IMG_20200328_172829 and Destination: 3.182683252883396 meters\n",
      "Distance between IMG_20200328_172906,IMG_20200328_172829 and Destination: 3.182683252883396 meters\n",
      "Distance between IMG_20200328_172912,IMG_20200328_172829 and Destination: 10.320075574184083 meters\n",
      "Distance between IMG_20200328_172919,IMG_20200328_172829 and Destination: 10.320075574184083 meters\n",
      "Distance between IMG_20200328_172924,IMG_20200328_172829 and Destination: 10.320075574184083 meters\n",
      "Distance between IMG_20200328_173044,IMG_20200328_172829 and Destination: 5.8122991778653805 meters\n",
      "Distance between IMG_20200328_173053,IMG_20200328_172829 and Destination: 6.498167963644998 meters\n",
      "Distance between IMG_20200328_173059,IMG_20200328_172829 and Destination: 6.498167963644998 meters\n",
      "Distance between IMG_20200328_173106,IMG_20200328_172829 and Destination: 6.498167963644998 meters\n",
      "Distance between IMG_20200328_173114,IMG_20200328_172829 and Destination: 2.5583329083045863 meters\n",
      "Distance between IMG_20200328_172851,IMG_20200328_172841 and Destination: 3.182683252883396 meters\n",
      "Distance between IMG_20200328_172858,IMG_20200328_172841 and Destination: 3.182683252883396 meters\n",
      "Distance between IMG_20200328_172906,IMG_20200328_172841 and Destination: 3.182683252883396 meters\n",
      "Distance between IMG_20200328_172912,IMG_20200328_172841 and Destination: 10.320075574184083 meters\n",
      "Distance between IMG_20200328_172919,IMG_20200328_172841 and Destination: 10.320075574184083 meters\n",
      "Distance between IMG_20200328_172924,IMG_20200328_172841 and Destination: 10.320075574184083 meters\n",
      "Distance between IMG_20200328_173044,IMG_20200328_172841 and Destination: 5.8122991778653805 meters\n",
      "Distance between IMG_20200328_173053,IMG_20200328_172841 and Destination: 6.498167963644998 meters\n",
      "Distance between IMG_20200328_173059,IMG_20200328_172841 and Destination: 6.498167963644998 meters\n",
      "Distance between IMG_20200328_173106,IMG_20200328_172841 and Destination: 6.498167963644998 meters\n",
      "Distance between IMG_20200328_173114,IMG_20200328_172841 and Destination: 2.5583329083045863 meters\n",
      "Distance between IMG_20200328_172858,IMG_20200328_172851 and Destination: 0.0 meters\n",
      "Distance between IMG_20200328_172906,IMG_20200328_172851 and Destination: 0.0 meters\n",
      "Distance between IMG_20200328_172912,IMG_20200328_172851 and Destination: 7.708198223287755 meters\n",
      "Distance between IMG_20200328_172919,IMG_20200328_172851 and Destination: 7.708198223287755 meters\n",
      "Distance between IMG_20200328_172924,IMG_20200328_172851 and Destination: 7.708198223287755 meters\n",
      "Distance between IMG_20200328_173044,IMG_20200328_172851 and Destination: 2.664173878557237 meters\n",
      "Distance between IMG_20200328_173053,IMG_20200328_172851 and Destination: 3.3178739668971575 meters\n",
      "Distance between IMG_20200328_173059,IMG_20200328_172851 and Destination: 3.3178739668971575 meters\n",
      "Distance between IMG_20200328_173106,IMG_20200328_172851 and Destination: 3.3178739668971575 meters\n",
      "Distance between IMG_20200328_173114,IMG_20200328_172851 and Destination: 1.652682576327332 meters\n",
      "Distance between IMG_20200328_172906,IMG_20200328_172858 and Destination: 0.0 meters\n",
      "Distance between IMG_20200328_172912,IMG_20200328_172858 and Destination: 7.708198223287755 meters\n",
      "Distance between IMG_20200328_172919,IMG_20200328_172858 and Destination: 7.708198223287755 meters\n",
      "Distance between IMG_20200328_172924,IMG_20200328_172858 and Destination: 7.708198223287755 meters\n",
      "Distance between IMG_20200328_173044,IMG_20200328_172858 and Destination: 2.664173878557237 meters\n",
      "Distance between IMG_20200328_173053,IMG_20200328_172858 and Destination: 3.3178739668971575 meters\n",
      "Distance between IMG_20200328_173059,IMG_20200328_172858 and Destination: 3.3178739668971575 meters\n",
      "Distance between IMG_20200328_173106,IMG_20200328_172858 and Destination: 3.3178739668971575 meters\n",
      "Distance between IMG_20200328_173114,IMG_20200328_172858 and Destination: 1.652682576327332 meters\n",
      "Distance between IMG_20200328_172912,IMG_20200328_172906 and Destination: 7.708198223287755 meters\n",
      "Distance between IMG_20200328_172919,IMG_20200328_172906 and Destination: 7.708198223287755 meters\n",
      "Distance between IMG_20200328_172924,IMG_20200328_172906 and Destination: 7.708198223287755 meters\n",
      "Distance between IMG_20200328_173044,IMG_20200328_172906 and Destination: 2.664173878557237 meters\n",
      "Distance between IMG_20200328_173053,IMG_20200328_172906 and Destination: 3.3178739668971575 meters\n",
      "Distance between IMG_20200328_173059,IMG_20200328_172906 and Destination: 3.3178739668971575 meters\n",
      "Distance between IMG_20200328_173106,IMG_20200328_172906 and Destination: 3.3178739668971575 meters\n",
      "Distance between IMG_20200328_173114,IMG_20200328_172906 and Destination: 1.652682576327332 meters\n",
      "Distance between IMG_20200328_172919,IMG_20200328_172912 and Destination: 0.0 meters\n",
      "Distance between IMG_20200328_172924,IMG_20200328_172912 and Destination: 0.0 meters\n",
      "Distance between IMG_20200328_173044,IMG_20200328_172912 and Destination: 5.518903145038833 meters\n",
      "Distance between IMG_20200328_173053,IMG_20200328_172912 and Destination: 5.811807180683681 meters\n",
      "Distance between IMG_20200328_173059,IMG_20200328_172912 and Destination: 5.811807180683681 meters\n",
      "Distance between IMG_20200328_173106,IMG_20200328_172912 and Destination: 5.811807180683681 meters\n",
      "Distance between IMG_20200328_173114,IMG_20200328_172912 and Destination: 9.331212721663631 meters\n",
      "Distance between IMG_20200328_172924,IMG_20200328_172919 and Destination: 0.0 meters\n",
      "Distance between IMG_20200328_173044,IMG_20200328_172919 and Destination: 5.518903145038833 meters\n",
      "Distance between IMG_20200328_173053,IMG_20200328_172919 and Destination: 5.811807180683681 meters\n",
      "Distance between IMG_20200328_173059,IMG_20200328_172919 and Destination: 5.811807180683681 meters\n",
      "Distance between IMG_20200328_173106,IMG_20200328_172919 and Destination: 5.811807180683681 meters\n",
      "Distance between IMG_20200328_173114,IMG_20200328_172919 and Destination: 9.331212721663631 meters\n",
      "Distance between IMG_20200328_173044,IMG_20200328_172924 and Destination: 5.518903145038833 meters\n",
      "Distance between IMG_20200328_173053,IMG_20200328_172924 and Destination: 5.811807180683681 meters\n",
      "Distance between IMG_20200328_173059,IMG_20200328_172924 and Destination: 5.811807180683681 meters\n",
      "Distance between IMG_20200328_173106,IMG_20200328_172924 and Destination: 5.811807180683681 meters\n",
      "Distance between IMG_20200328_173114,IMG_20200328_172924 and Destination: 9.331212721663631 meters\n",
      "Distance between IMG_20200328_173053,IMG_20200328_173044 and Destination: 1.0394272830130593 meters\n",
      "Distance between IMG_20200328_173059,IMG_20200328_173044 and Destination: 1.0394272830130593 meters\n",
      "Distance between IMG_20200328_173106,IMG_20200328_173044 and Destination: 1.0394272830130593 meters\n",
      "Distance between IMG_20200328_173114,IMG_20200328_173044 and Destination: 4.06403929196841 meters\n",
      "Distance between IMG_20200328_173059,IMG_20200328_173053 and Destination: 0.0 meters\n",
      "Distance between IMG_20200328_173106,IMG_20200328_173053 and Destination: 0.0 meters\n",
      "Distance between IMG_20200328_173114,IMG_20200328_173053 and Destination: 4.454047730965836 meters\n",
      "Distance between IMG_20200328_173106,IMG_20200328_173059 and Destination: 0.0 meters\n",
      "Distance between IMG_20200328_173114,IMG_20200328_173059 and Destination: 4.454047730965836 meters\n",
      "Distance between IMG_20200328_173114,IMG_20200328_173106 and Destination: 4.454047730965836 meters\n",
      "171\n"
     ]
    }
   ],
   "source": [
    "from itertools import combinations\n",
    "\n",
    "comb = combinations(range(19), 2)\n",
    "k = 0\n",
    "distance_list = []\n",
    "for (origin_index, destination_index) in comb:\n",
    "    origin = metadata_gps[origin_index][\"gps\"]\n",
    "    origin_name = metadata_gps[origin_index][\"file\"]\n",
    "    desti = metadata_gps[destination_index][\"gps\"]\n",
    "    desti_name = metadata_gps[destination_index][\"file\"]\n",
    "    distance = geodesic(origin, desti).meters\n",
    "    print(\n",
    "        f\"Distance between {desti_name},{origin_name} and Destination: {distance} meters\"\n",
    "    )\n",
    "    distance_list.append((origin_name, desti_name, distance))\n",
    "    k += 1\n",
    "\n",
    "print(k)"
   ]
  },
  {
   "cell_type": "code",
   "execution_count": 72,
   "id": "3535721e",
   "metadata": {},
   "outputs": [
    {
     "name": "stdout",
     "output_type": "stream",
     "text": [
      "('IMG_20200328_172713', 'IMG_20200328_172726', 0.0)\n",
      "('IMG_20200328_172713', 'IMG_20200328_172739', 7.370379528047999)\n",
      "('IMG_20200328_172713', 'IMG_20200328_172819', 9.157562729195647)\n",
      "('IMG_20200328_172713', 'IMG_20200328_172829', 14.037025310184022)\n",
      "('IMG_20200328_172713', 'IMG_20200328_172841', 14.037025310184022)\n",
      "('IMG_20200328_172713', 'IMG_20200328_172851', 16.500538196179203)\n",
      "('IMG_20200328_172713', 'IMG_20200328_172858', 16.500538196179203)\n",
      "('IMG_20200328_172713', 'IMG_20200328_172906', 16.500538196179203)\n",
      "('IMG_20200328_172713', 'IMG_20200328_173114', 16.5470100060773)\n",
      "('IMG_20200328_172713', 'IMG_20200328_173044', 18.38531416563206)\n",
      "('IMG_20200328_172713', 'IMG_20200328_173053', 19.380115782214858)\n",
      "('IMG_20200328_172713', 'IMG_20200328_173059', 19.380115782214858)\n",
      "('IMG_20200328_172713', 'IMG_20200328_173106', 19.380115782214858)\n",
      "('IMG_20200328_172713', 'IMG_20200328_172754', 19.55259756160371)\n",
      "('IMG_20200328_172713', 'IMG_20200328_172806', 19.55259756160371)\n",
      "('IMG_20200328_172713', 'IMG_20200328_172912', 19.746161355086684)\n",
      "('IMG_20200328_172713', 'IMG_20200328_172919', 19.746161355086684)\n",
      "('IMG_20200328_172713', 'IMG_20200328_172924', 19.746161355086684)\n",
      "('IMG_20200328_172726', 'IMG_20200328_172739', 7.370379528047999)\n",
      "('IMG_20200328_172726', 'IMG_20200328_172819', 9.157562729195647)\n"
     ]
    }
   ],
   "source": [
    "distance_list.sort(key=lambda x: (x[0], x[2]))\n",
    "for i in distance_list[:20]:\n",
    "    print(i)"
   ]
  },
  {
   "cell_type": "code",
   "execution_count": 81,
   "id": "426d27dc",
   "metadata": {},
   "outputs": [
    {
     "ename": "AttributeError",
     "evalue": "'list' object has no attribute 'write'",
     "output_type": "error",
     "traceback": [
      "\u001b[1;31m---------------------------------------------------------------------------\u001b[0m",
      "\u001b[1;31mAttributeError\u001b[0m                            Traceback (most recent call last)",
      "\u001b[1;32m<ipython-input-81-3b500037a14b>\u001b[0m in \u001b[0;36m<module>\u001b[1;34m\u001b[0m\n\u001b[0;32m      5\u001b[0m \u001b[0mk\u001b[0m\u001b[1;33m=\u001b[0m\u001b[1;36m0\u001b[0m\u001b[1;33m\u001b[0m\u001b[1;33m\u001b[0m\u001b[0m\n\u001b[0;32m      6\u001b[0m \u001b[1;32mfor\u001b[0m \u001b[0mkey\u001b[0m\u001b[1;33m,\u001b[0m \u001b[0mgroup\u001b[0m \u001b[1;32min\u001b[0m \u001b[0mgroupby\u001b[0m\u001b[1;33m(\u001b[0m\u001b[0mdistance_list\u001b[0m\u001b[1;33m,\u001b[0m \u001b[0mitemgetter\u001b[0m\u001b[1;33m(\u001b[0m\u001b[1;36m0\u001b[0m\u001b[1;33m)\u001b[0m\u001b[1;33m)\u001b[0m\u001b[1;33m:\u001b[0m\u001b[1;33m\u001b[0m\u001b[1;33m\u001b[0m\u001b[0m\n\u001b[1;32m----> 7\u001b[1;33m     \u001b[0mpprint\u001b[0m\u001b[1;33m(\u001b[0m\u001b[0mkey\u001b[0m\u001b[1;33m,\u001b[0m \u001b[0mlist\u001b[0m\u001b[1;33m(\u001b[0m\u001b[0mgroup\u001b[0m\u001b[1;33m)\u001b[0m\u001b[1;33m)\u001b[0m\u001b[1;33m\u001b[0m\u001b[1;33m\u001b[0m\u001b[0m\n\u001b[0m\u001b[0;32m      8\u001b[0m     \u001b[0mk\u001b[0m\u001b[1;33m+=\u001b[0m\u001b[1;36m1\u001b[0m\u001b[1;33m\u001b[0m\u001b[1;33m\u001b[0m\u001b[0m\n\u001b[0;32m      9\u001b[0m \u001b[0mprint\u001b[0m\u001b[1;33m(\u001b[0m\u001b[0mk\u001b[0m\u001b[1;33m)\u001b[0m\u001b[1;33m\u001b[0m\u001b[1;33m\u001b[0m\u001b[0m\n",
      "\u001b[1;32mc:\\users\\admin\\appdata\\local\\programs\\python\\python39\\lib\\pprint.py\u001b[0m in \u001b[0;36mpprint\u001b[1;34m(object, stream, indent, width, depth, compact, sort_dicts)\u001b[0m\n\u001b[0;32m     51\u001b[0m         \u001b[0mstream\u001b[0m\u001b[1;33m=\u001b[0m\u001b[0mstream\u001b[0m\u001b[1;33m,\u001b[0m \u001b[0mindent\u001b[0m\u001b[1;33m=\u001b[0m\u001b[0mindent\u001b[0m\u001b[1;33m,\u001b[0m \u001b[0mwidth\u001b[0m\u001b[1;33m=\u001b[0m\u001b[0mwidth\u001b[0m\u001b[1;33m,\u001b[0m \u001b[0mdepth\u001b[0m\u001b[1;33m=\u001b[0m\u001b[0mdepth\u001b[0m\u001b[1;33m,\u001b[0m\u001b[1;33m\u001b[0m\u001b[1;33m\u001b[0m\u001b[0m\n\u001b[0;32m     52\u001b[0m         compact=compact, sort_dicts=sort_dicts)\n\u001b[1;32m---> 53\u001b[1;33m     \u001b[0mprinter\u001b[0m\u001b[1;33m.\u001b[0m\u001b[0mpprint\u001b[0m\u001b[1;33m(\u001b[0m\u001b[0mobject\u001b[0m\u001b[1;33m)\u001b[0m\u001b[1;33m\u001b[0m\u001b[1;33m\u001b[0m\u001b[0m\n\u001b[0m\u001b[0;32m     54\u001b[0m \u001b[1;33m\u001b[0m\u001b[0m\n\u001b[0;32m     55\u001b[0m def pformat(object, indent=1, width=80, depth=None, *,\n",
      "\u001b[1;32mc:\\users\\admin\\appdata\\local\\programs\\python\\python39\\lib\\pprint.py\u001b[0m in \u001b[0;36mpprint\u001b[1;34m(self, object)\u001b[0m\n\u001b[0;32m    146\u001b[0m \u001b[1;33m\u001b[0m\u001b[0m\n\u001b[0;32m    147\u001b[0m     \u001b[1;32mdef\u001b[0m \u001b[0mpprint\u001b[0m\u001b[1;33m(\u001b[0m\u001b[0mself\u001b[0m\u001b[1;33m,\u001b[0m \u001b[0mobject\u001b[0m\u001b[1;33m)\u001b[0m\u001b[1;33m:\u001b[0m\u001b[1;33m\u001b[0m\u001b[1;33m\u001b[0m\u001b[0m\n\u001b[1;32m--> 148\u001b[1;33m         \u001b[0mself\u001b[0m\u001b[1;33m.\u001b[0m\u001b[0m_format\u001b[0m\u001b[1;33m(\u001b[0m\u001b[0mobject\u001b[0m\u001b[1;33m,\u001b[0m \u001b[0mself\u001b[0m\u001b[1;33m.\u001b[0m\u001b[0m_stream\u001b[0m\u001b[1;33m,\u001b[0m \u001b[1;36m0\u001b[0m\u001b[1;33m,\u001b[0m \u001b[1;36m0\u001b[0m\u001b[1;33m,\u001b[0m \u001b[1;33m{\u001b[0m\u001b[1;33m}\u001b[0m\u001b[1;33m,\u001b[0m \u001b[1;36m0\u001b[0m\u001b[1;33m)\u001b[0m\u001b[1;33m\u001b[0m\u001b[1;33m\u001b[0m\u001b[0m\n\u001b[0m\u001b[0;32m    149\u001b[0m         \u001b[0mself\u001b[0m\u001b[1;33m.\u001b[0m\u001b[0m_stream\u001b[0m\u001b[1;33m.\u001b[0m\u001b[0mwrite\u001b[0m\u001b[1;33m(\u001b[0m\u001b[1;34m\"\\n\"\u001b[0m\u001b[1;33m)\u001b[0m\u001b[1;33m\u001b[0m\u001b[1;33m\u001b[0m\u001b[0m\n\u001b[0;32m    150\u001b[0m \u001b[1;33m\u001b[0m\u001b[0m\n",
      "\u001b[1;32mc:\\users\\admin\\appdata\\local\\programs\\python\\python39\\lib\\pprint.py\u001b[0m in \u001b[0;36m_format\u001b[1;34m(self, object, stream, indent, allowance, context, level)\u001b[0m\n\u001b[0;32m    183\u001b[0m                 \u001b[1;32mdel\u001b[0m \u001b[0mcontext\u001b[0m\u001b[1;33m[\u001b[0m\u001b[0mobjid\u001b[0m\u001b[1;33m]\u001b[0m\u001b[1;33m\u001b[0m\u001b[1;33m\u001b[0m\u001b[0m\n\u001b[0;32m    184\u001b[0m                 \u001b[1;32mreturn\u001b[0m\u001b[1;33m\u001b[0m\u001b[1;33m\u001b[0m\u001b[0m\n\u001b[1;32m--> 185\u001b[1;33m         \u001b[0mstream\u001b[0m\u001b[1;33m.\u001b[0m\u001b[0mwrite\u001b[0m\u001b[1;33m(\u001b[0m\u001b[0mrep\u001b[0m\u001b[1;33m)\u001b[0m\u001b[1;33m\u001b[0m\u001b[1;33m\u001b[0m\u001b[0m\n\u001b[0m\u001b[0;32m    186\u001b[0m \u001b[1;33m\u001b[0m\u001b[0m\n\u001b[0;32m    187\u001b[0m     \u001b[0m_dispatch\u001b[0m \u001b[1;33m=\u001b[0m \u001b[1;33m{\u001b[0m\u001b[1;33m}\u001b[0m\u001b[1;33m\u001b[0m\u001b[1;33m\u001b[0m\u001b[0m\n",
      "\u001b[1;31mAttributeError\u001b[0m: 'list' object has no attribute 'write'"
     ]
    }
   ],
   "source": [
    "from itertools import groupby\n",
    "from operator import itemgetter\n",
    "\n",
    "from pprint import pprint\n",
    "\n",
    "k = 0\n",
    "for key, group in groupby(distance_list, itemgetter(0)):\n",
    "    pprint(key, list(group))\n",
    "    k += 1\n",
    "print(k)"
   ]
  },
  {
   "cell_type": "code",
   "execution_count": 91,
   "id": "09c97079",
   "metadata": {},
   "outputs": [],
   "source": [
    "import pygeodesy"
   ]
  },
  {
   "cell_type": "code",
   "execution_count": 92,
   "id": "368dd63c",
   "metadata": {},
   "outputs": [],
   "source": [
    "?pygeodesy"
   ]
  },
  {
   "cell_type": "code",
   "execution_count": null,
   "id": "4af3403a",
   "metadata": {},
   "outputs": [],
   "source": []
  }
 ],
 "metadata": {
  "kernelspec": {
   "display_name": "Python 3",
   "language": "python",
   "name": "python3"
  },
  "language_info": {
   "codemirror_mode": {
    "name": "ipython",
    "version": 3
   },
   "file_extension": ".py",
   "mimetype": "text/x-python",
   "name": "python",
   "nbconvert_exporter": "python",
   "pygments_lexer": "ipython3",
   "version": "3.9.5"
  },
  "toc": {
   "base_numbering": 1,
   "nav_menu": {},
   "number_sections": true,
   "sideBar": true,
   "skip_h1_title": false,
   "title_cell": "Table of Contents",
   "title_sidebar": "Contents",
   "toc_cell": false,
   "toc_position": {},
   "toc_section_display": true,
   "toc_window_display": false
  }
 },
 "nbformat": 4,
 "nbformat_minor": 5
}
