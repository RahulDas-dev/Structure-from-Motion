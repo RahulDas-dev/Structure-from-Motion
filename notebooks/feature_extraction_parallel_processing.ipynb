{
 "cells": [
  {
   "cell_type": "code",
   "execution_count": 2,
   "id": "48787bb0",
   "metadata": {},
   "outputs": [],
   "source": [
    "import os \n",
    "from time import perf_counter\n",
    "from typing import Dict\n",
    "import pickle\n",
    "import traceback\n",
    "\n",
    "import cv2\n",
    "%matplotlib inline\n",
    "import matplotlib.pyplot as plt\n",
    "from tqdm.notebook import tqdm\n",
    "\n",
    "from sift import compute_sift"
   ]
  },
  {
   "cell_type": "code",
   "execution_count": 3,
   "id": "b4d41423",
   "metadata": {},
   "outputs": [],
   "source": [
    "dataset_dir =\"C:/Users/admin/Desktop/codespace/python/Structure-from-Motion/dataset/penholder\"\n",
    "output_dir =\"C:/Users/admin/Desktop/codespace/python/output_sfm\""
   ]
  },
  {
   "cell_type": "code",
   "execution_count": 4,
   "id": "0aaec8a1",
   "metadata": {},
   "outputs": [
    {
     "name": "stdout",
     "output_type": "stream",
     "text": [
      "files count 83\n"
     ]
    }
   ],
   "source": [
    "if os.path.isdir(dataset_dir) is not True:\n",
    "    raise NotADirectoryError(f'The Directory {datadir} not found')\n",
    "\n",
    "if os.path.isdir(output_dir) is not True:\n",
    "    raise NotADirectoryError(f'The Directory {output_dir} not found')    \n",
    "    \n",
    "dataset_dir = os.path.abspath(dataset_dir)    \n",
    "files = [os.path.join(dataset_dir,file ) for file in os.listdir(dataset_dir)]\n",
    "\n",
    "print(f'files count {len(files)}')\n"
   ]
  },
  {
   "cell_type": "code",
   "execution_count": 5,
   "id": "6754674d",
   "metadata": {},
   "outputs": [],
   "source": [
    "def get_basename(file_path:str) -> str:\n",
    "    \"\"\"Extracts Basename of File with out Extension.\"\"\"\n",
    "    baseName = os.path.basename(file_path).split(\".\")[:-1]\n",
    "    return \".\".join(baseName) if isinstance(baseName, list) else baseName"
   ]
  },
  {
   "cell_type": "code",
   "execution_count": 6,
   "id": "9fa083a9",
   "metadata": {},
   "outputs": [],
   "source": [
    "def compute_sift(image_path:str, output_dir:str = output_dir) ->str:\n",
    "    image = cv2.imread(image_path,cv2.IMREAD_GRAYSCALE)\n",
    "    sift = cv2.SIFT_create()\n",
    "    keypoints, descriptors = sift.detectAndCompute(image,None)\n",
    "    pickle_kp=list(map(lambda p: (p.pt[0],p.pt[0], p.size, p.angle, p.response, p.octave, p.class_id),keypoints))\n",
    "    #print(pickle_kp[1], len(pickle_kp))\n",
    "    features = {\n",
    "        \"keypoint\": pickle_kp,\n",
    "        \"descriptor\": descriptors,\n",
    "    }\n",
    "    base_name = get_basename(image_path)\n",
    "    pickle_file_path=os.path.join(output_dir,f'{base_name}.pickle')\n",
    "    with open(pickle_file_path, mode=\"wb\") as pkl_file:\n",
    "        pickle.dump(features, pkl_file)\n",
    "    return pickle_file_path    "
   ]
  },
  {
   "cell_type": "code",
   "execution_count": 7,
   "id": "b089f1b0",
   "metadata": {},
   "outputs": [
    {
     "name": "stdout",
     "output_type": "stream",
     "text": [
      "Number of Cores 6\n",
      "Have Opencl True\n"
     ]
    },
    {
     "data": {
      "text/plain": [
       "0"
      ]
     },
     "execution_count": 7,
     "metadata": {},
     "output_type": "execute_result"
    }
   ],
   "source": [
    "\n",
    "print(f'Number of Cores {cv2.getNumThreads()}')\n",
    "print(f'Have Opencl {cv2.ocl.haveOpenCL()}')\n",
    "cv2.cuda.getCudaEnabledDeviceCount()"
   ]
  },
  {
   "cell_type": "code",
   "execution_count": 8,
   "id": "0cf64783",
   "metadata": {},
   "outputs": [
    {
     "name": "stdout",
     "output_type": "stream",
     "text": [
      "took 0.00003070s to execute\n"
     ]
    }
   ],
   "source": [
    "start_time = perf_counter()\n",
    "\n",
    "#for file in tqdm(files, desc=\"Extracting Sift Feature ...\"):\n",
    "#    pkl_file=compute_sift(file)\n",
    "    \n",
    "end_time = perf_counter()\n",
    "execution_time = end_time - start_time\n",
    "print('took {0:.8f}s to execute'.format(execution_time))    "
   ]
  },
  {
   "cell_type": "code",
   "execution_count": null,
   "id": "dbdef23f",
   "metadata": {},
   "outputs": [],
   "source": [
    "from concurrent.futures import  ProcessPoolExecutor, ThreadPoolExecutor, as_completed"
   ]
  },
  {
   "cell_type": "code",
   "execution_count": null,
   "id": "b09ac8a5",
   "metadata": {},
   "outputs": [],
   "source": [
    "start_time = perf_counter()\n",
    "thread=cv2.getNumThreads()\n",
    "cv2.setNumThreads(0)\n",
    "\n",
    "args = list(map(lambda x: (x,output_dir), files))\n",
    "\n",
    "with ProcessPoolExecutor(3)as executator:\n",
    "    result = [executator.submit(compute_sift, arg) for arg in args]\n",
    "    \n",
    "    for f in as_completed(result):\n",
    "        print(f.result())\n",
    "\n",
    "end_time = perf_counter()\n",
    "#cv2.setNumThreads(thread)\n",
    "print('took {0:.8f}s to execute'.format(end_time - start_time))       "
   ]
  },
  {
   "cell_type": "code",
   "execution_count": 9,
   "id": "72548f25",
   "metadata": {},
   "outputs": [],
   "source": [
    "import multiprocess as mp"
   ]
  },
  {
   "cell_type": "code",
   "execution_count": null,
   "id": "e4ad140e",
   "metadata": {},
   "outputs": [],
   "source": [
    "start_time = perf_counter()\n",
    "thread=cv2.getNumThreads()\n",
    "cv2.setNumThreads(0)\n",
    "\n",
    "args = list(map(lambda x: (x,output_dir), files))\n",
    "\n",
    "with mp.Pool(4) as pool:\n",
    "    pool.map(compute_sift, args)\n",
    "    \n",
    "end_time = perf_counter()\n",
    "cv2.setNumThreads(thread)\n",
    "print('took {0:.8f}s to execute'.format(end_time - start_time))     "
   ]
  },
  {
   "cell_type": "code",
   "execution_count": null,
   "id": "2d1ea267",
   "metadata": {},
   "outputs": [],
   "source": []
  }
 ],
 "metadata": {
  "kernelspec": {
   "display_name": "Python 3",
   "language": "python",
   "name": "python3"
  },
  "language_info": {
   "codemirror_mode": {
    "name": "ipython",
    "version": 3
   },
   "file_extension": ".py",
   "mimetype": "text/x-python",
   "name": "python",
   "nbconvert_exporter": "python",
   "pygments_lexer": "ipython3",
   "version": "3.9.5"
  },
  "toc": {
   "base_numbering": 1,
   "nav_menu": {},
   "number_sections": true,
   "sideBar": true,
   "skip_h1_title": false,
   "title_cell": "Table of Contents",
   "title_sidebar": "Contents",
   "toc_cell": false,
   "toc_position": {},
   "toc_section_display": true,
   "toc_window_display": false
  }
 },
 "nbformat": 4,
 "nbformat_minor": 5
}
