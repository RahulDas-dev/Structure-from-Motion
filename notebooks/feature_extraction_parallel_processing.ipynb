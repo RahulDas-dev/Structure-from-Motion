{
 "cells": [
  {
   "cell_type": "code",
   "execution_count": 1,
   "id": "48787bb0",
   "metadata": {},
   "outputs": [],
   "source": [
    "import os\n",
    "from time import perf_counter\n",
    "from typing import Dict\n",
    "import pickle\n",
    "import traceback\n",
    "\n",
    "import cv2\n",
    "\n",
    "%matplotlib inline\n",
    "import matplotlib.pyplot as plt\n",
    "from tqdm.notebook import tqdm\n",
    "\n",
    "from sift import compute_sift"
   ]
  },
  {
   "cell_type": "code",
   "execution_count": 7,
   "id": "b4d41423",
   "metadata": {},
   "outputs": [],
   "source": [
    "dataset_dir = (\n",
    "    \"C:/Users/admin/Desktop/codespace/python/Structure-from-Motion/dataset/box\"\n",
    ")\n",
    "output_dir = \"C:/Users/admin/Desktop/codespace/python/output_sfm\""
   ]
  },
  {
   "cell_type": "code",
   "execution_count": 8,
   "id": "0aaec8a1",
   "metadata": {},
   "outputs": [
    {
     "name": "stdout",
     "output_type": "stream",
     "text": [
      "files count 19\n"
     ]
    }
   ],
   "source": [
    "if os.path.isdir(dataset_dir) is not True:\n",
    "    raise NotADirectoryError(f\"The Directory {datadir} not found\")\n",
    "\n",
    "if os.path.isdir(output_dir) is not True:\n",
    "    raise NotADirectoryError(f\"The Directory {output_dir} not found\")\n",
    "\n",
    "dataset_dir = os.path.abspath(dataset_dir)\n",
    "files = [os.path.join(dataset_dir, file) for file in os.listdir(dataset_dir)]\n",
    "\n",
    "print(f\"files count {len(files)}\")"
   ]
  },
  {
   "cell_type": "code",
   "execution_count": 9,
   "id": "6754674d",
   "metadata": {},
   "outputs": [],
   "source": [
    "def get_basename(file_path: str) -> str:\n",
    "    \"\"\"Extracts Basename of File with out Extension.\"\"\"\n",
    "    baseName = os.path.basename(file_path).split(\".\")[:-1]\n",
    "    return \".\".join(baseName) if isinstance(baseName, list) else baseName"
   ]
  },
  {
   "cell_type": "code",
   "execution_count": 10,
   "id": "9fa083a9",
   "metadata": {},
   "outputs": [],
   "source": [
    "def compute_sift(image_path: str, output_dir: str = output_dir) -> str:\n",
    "    image = cv2.imread(image_path, cv2.IMREAD_GRAYSCALE)\n",
    "    sift = cv2.SIFT_create()\n",
    "    keypoints, descriptors = sift.detectAndCompute(image, None)\n",
    "    pickle_kp = list(\n",
    "        map(\n",
    "            lambda p: (\n",
    "                p.pt[0],\n",
    "                p.pt[0],\n",
    "                p.size,\n",
    "                p.angle,\n",
    "                p.response,\n",
    "                p.octave,\n",
    "                p.class_id,\n",
    "            ),\n",
    "            keypoints,\n",
    "        )\n",
    "    )\n",
    "    # print(pickle_kp[1], len(pickle_kp))\n",
    "    features = {\n",
    "        \"keypoint\": pickle_kp,\n",
    "        \"descriptor\": descriptors,\n",
    "    }\n",
    "    base_name = get_basename(image_path)\n",
    "    pickle_file_path = os.path.join(output_dir, f\"{base_name}.pickle\")\n",
    "    with open(pickle_file_path, mode=\"wb\") as pkl_file:\n",
    "        pickle.dump(features, pkl_file)\n",
    "    return pickle_file_path"
   ]
  },
  {
   "cell_type": "code",
   "execution_count": 11,
   "id": "b089f1b0",
   "metadata": {},
   "outputs": [
    {
     "name": "stdout",
     "output_type": "stream",
     "text": [
      "Number of Cores 6\n",
      "Have Opencl True\n"
     ]
    },
    {
     "data": {
      "text/plain": [
       "0"
      ]
     },
     "execution_count": 11,
     "metadata": {},
     "output_type": "execute_result"
    }
   ],
   "source": [
    "print(f\"Number of Cores {cv2.getNumThreads()}\")\n",
    "print(f\"Have Opencl {cv2.ocl.haveOpenCL()}\")\n",
    "cv2.cuda.getCudaEnabledDeviceCount()"
   ]
  },
  {
   "cell_type": "code",
   "execution_count": 12,
   "id": "0cf64783",
   "metadata": {},
   "outputs": [
    {
     "name": "stdout",
     "output_type": "stream",
     "text": [
      "took 0.00002330s to execute\n"
     ]
    }
   ],
   "source": [
    "start_time = perf_counter()\n",
    "\n",
    "# for file in tqdm(files, desc=\"Extracting Sift Feature ...\"):\n",
    "#    pkl_file=compute_sift(file)\n",
    "\n",
    "end_time = perf_counter()\n",
    "execution_time = end_time - start_time\n",
    "print(\"took {0:.8f}s to execute\".format(execution_time))"
   ]
  },
  {
   "cell_type": "code",
   "execution_count": 13,
   "id": "dbdef23f",
   "metadata": {},
   "outputs": [],
   "source": [
    "from concurrent.futures import ProcessPoolExecutor, ThreadPoolExecutor, as_completed"
   ]
  },
  {
   "cell_type": "code",
   "execution_count": 14,
   "id": "b09ac8a5",
   "metadata": {},
   "outputs": [
    {
     "ename": "BrokenProcessPool",
     "evalue": "A process in the process pool was terminated abruptly while the future was running or pending.",
     "output_type": "error",
     "traceback": [
      "\u001b[1;31m---------------------------------------------------------------------------\u001b[0m",
      "\u001b[1;31mBrokenProcessPool\u001b[0m                         Traceback (most recent call last)",
      "\u001b[1;32m<ipython-input-14-98ad6ef8d1ee>\u001b[0m in \u001b[0;36m<module>\u001b[1;34m\u001b[0m\n\u001b[0;32m      9\u001b[0m \u001b[1;33m\u001b[0m\u001b[0m\n\u001b[0;32m     10\u001b[0m     \u001b[1;32mfor\u001b[0m \u001b[0mf\u001b[0m \u001b[1;32min\u001b[0m \u001b[0mas_completed\u001b[0m\u001b[1;33m(\u001b[0m\u001b[0mresult\u001b[0m\u001b[1;33m)\u001b[0m\u001b[1;33m:\u001b[0m\u001b[1;33m\u001b[0m\u001b[1;33m\u001b[0m\u001b[0m\n\u001b[1;32m---> 11\u001b[1;33m         \u001b[0mprint\u001b[0m\u001b[1;33m(\u001b[0m\u001b[0mf\u001b[0m\u001b[1;33m.\u001b[0m\u001b[0mresult\u001b[0m\u001b[1;33m(\u001b[0m\u001b[1;33m)\u001b[0m\u001b[1;33m)\u001b[0m\u001b[1;33m\u001b[0m\u001b[1;33m\u001b[0m\u001b[0m\n\u001b[0m\u001b[0;32m     12\u001b[0m \u001b[1;33m\u001b[0m\u001b[0m\n\u001b[0;32m     13\u001b[0m \u001b[0mend_time\u001b[0m \u001b[1;33m=\u001b[0m \u001b[0mperf_counter\u001b[0m\u001b[1;33m(\u001b[0m\u001b[1;33m)\u001b[0m\u001b[1;33m\u001b[0m\u001b[1;33m\u001b[0m\u001b[0m\n",
      "\u001b[1;32m~\\AppData\\Local\\Programs\\Python\\Python39\\lib\\concurrent\\futures\\_base.py\u001b[0m in \u001b[0;36mresult\u001b[1;34m(self, timeout)\u001b[0m\n\u001b[0;32m    436\u001b[0m                     \u001b[1;32mraise\u001b[0m \u001b[0mCancelledError\u001b[0m\u001b[1;33m(\u001b[0m\u001b[1;33m)\u001b[0m\u001b[1;33m\u001b[0m\u001b[1;33m\u001b[0m\u001b[0m\n\u001b[0;32m    437\u001b[0m                 \u001b[1;32melif\u001b[0m \u001b[0mself\u001b[0m\u001b[1;33m.\u001b[0m\u001b[0m_state\u001b[0m \u001b[1;33m==\u001b[0m \u001b[0mFINISHED\u001b[0m\u001b[1;33m:\u001b[0m\u001b[1;33m\u001b[0m\u001b[1;33m\u001b[0m\u001b[0m\n\u001b[1;32m--> 438\u001b[1;33m                     \u001b[1;32mreturn\u001b[0m \u001b[0mself\u001b[0m\u001b[1;33m.\u001b[0m\u001b[0m__get_result\u001b[0m\u001b[1;33m(\u001b[0m\u001b[1;33m)\u001b[0m\u001b[1;33m\u001b[0m\u001b[1;33m\u001b[0m\u001b[0m\n\u001b[0m\u001b[0;32m    439\u001b[0m \u001b[1;33m\u001b[0m\u001b[0m\n\u001b[0;32m    440\u001b[0m                 \u001b[0mself\u001b[0m\u001b[1;33m.\u001b[0m\u001b[0m_condition\u001b[0m\u001b[1;33m.\u001b[0m\u001b[0mwait\u001b[0m\u001b[1;33m(\u001b[0m\u001b[0mtimeout\u001b[0m\u001b[1;33m)\u001b[0m\u001b[1;33m\u001b[0m\u001b[1;33m\u001b[0m\u001b[0m\n",
      "\u001b[1;32m~\\AppData\\Local\\Programs\\Python\\Python39\\lib\\concurrent\\futures\\_base.py\u001b[0m in \u001b[0;36m__get_result\u001b[1;34m(self)\u001b[0m\n\u001b[0;32m    388\u001b[0m         \u001b[1;32mif\u001b[0m \u001b[0mself\u001b[0m\u001b[1;33m.\u001b[0m\u001b[0m_exception\u001b[0m\u001b[1;33m:\u001b[0m\u001b[1;33m\u001b[0m\u001b[1;33m\u001b[0m\u001b[0m\n\u001b[0;32m    389\u001b[0m             \u001b[1;32mtry\u001b[0m\u001b[1;33m:\u001b[0m\u001b[1;33m\u001b[0m\u001b[1;33m\u001b[0m\u001b[0m\n\u001b[1;32m--> 390\u001b[1;33m                 \u001b[1;32mraise\u001b[0m \u001b[0mself\u001b[0m\u001b[1;33m.\u001b[0m\u001b[0m_exception\u001b[0m\u001b[1;33m\u001b[0m\u001b[1;33m\u001b[0m\u001b[0m\n\u001b[0m\u001b[0;32m    391\u001b[0m             \u001b[1;32mfinally\u001b[0m\u001b[1;33m:\u001b[0m\u001b[1;33m\u001b[0m\u001b[1;33m\u001b[0m\u001b[0m\n\u001b[0;32m    392\u001b[0m                 \u001b[1;31m# Break a reference cycle with the exception in self._exception\u001b[0m\u001b[1;33m\u001b[0m\u001b[1;33m\u001b[0m\u001b[1;33m\u001b[0m\u001b[0m\n",
      "\u001b[1;31mBrokenProcessPool\u001b[0m: A process in the process pool was terminated abruptly while the future was running or pending."
     ]
    }
   ],
   "source": [
    "start_time = perf_counter()\n",
    "thread = cv2.getNumThreads()\n",
    "cv2.setNumThreads(0)\n",
    "\n",
    "args = list(map(lambda x: (x, output_dir), files))\n",
    "\n",
    "with ProcessPoolExecutor(3) as executator:\n",
    "    result = [executator.submit(compute_sift, arg) for arg in args]\n",
    "\n",
    "    for f in as_completed(result):\n",
    "        print(f.result())\n",
    "\n",
    "end_time = perf_counter()\n",
    "# cv2.setNumThreads(thread)\n",
    "print(\"took {0:.8f}s to execute\".format(end_time - start_time))"
   ]
  },
  {
   "cell_type": "code",
   "execution_count": null,
   "id": "72548f25",
   "metadata": {},
   "outputs": [],
   "source": [
    "import multiprocess as mp"
   ]
  },
  {
   "cell_type": "code",
   "execution_count": null,
   "id": "e4ad140e",
   "metadata": {},
   "outputs": [],
   "source": [
    "start_time = perf_counter()\n",
    "thread = cv2.getNumThreads()\n",
    "cv2.setNumThreads(0)\n",
    "\n",
    "args = list(map(lambda x: (x, output_dir), files))\n",
    "\n",
    "with mp.Pool(4) as pool:\n",
    "    pool.map(compute_sift, args)\n",
    "\n",
    "end_time = perf_counter()\n",
    "cv2.setNumThreads(thread)\n",
    "print(\"took {0:.8f}s to execute\".format(end_time - start_time))"
   ]
  },
  {
   "cell_type": "code",
   "execution_count": null,
   "id": "2d1ea267",
   "metadata": {},
   "outputs": [],
   "source": [
    "image = cv2.imread"
   ]
  }
 ],
 "metadata": {
  "kernelspec": {
   "display_name": "Python 3",
   "language": "python",
   "name": "python3"
  },
  "language_info": {
   "codemirror_mode": {
    "name": "ipython",
    "version": 3
   },
   "file_extension": ".py",
   "mimetype": "text/x-python",
   "name": "python",
   "nbconvert_exporter": "python",
   "pygments_lexer": "ipython3",
   "version": "3.9.5"
  },
  "toc": {
   "base_numbering": 1,
   "nav_menu": {},
   "number_sections": true,
   "sideBar": true,
   "skip_h1_title": false,
   "title_cell": "Table of Contents",
   "title_sidebar": "Contents",
   "toc_cell": false,
   "toc_position": {},
   "toc_section_display": true,
   "toc_window_display": false
  }
 },
 "nbformat": 4,
 "nbformat_minor": 5
}
