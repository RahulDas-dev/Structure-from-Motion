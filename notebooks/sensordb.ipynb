{
 "cells": [
  {
   "cell_type": "code",
   "execution_count": 3,
   "id": "a7cbc130",
   "metadata": {},
   "outputs": [],
   "source": [
    "import os\n",
    "import csv\n",
    "from typing import ClassVar, Union, List, Tuple, Optional"
   ]
  },
  {
   "cell_type": "code",
   "execution_count": 48,
   "id": "ac77f3fd",
   "metadata": {},
   "outputs": [],
   "source": [
    "class SensorDB(object):\n",
    "\n",
    "    __db_path: ClassVar[str] = os.path.abspath('./sensordb.csv')\n",
    "\n",
    "    @classmethod\n",
    "    def validate_db_path(cls) -> bool:\n",
    "        if os.path.isfile(cls.__db_path) is not True:\n",
    "            raise FileNotFoundError(f'Path {cls.__db_path} is not Valid')\n",
    "        return True\n",
    "\n",
    "    @classmethod\n",
    "    def set_db_path(cls, dbpath: str):\n",
    "        if os.path.isfile(dbpath) is not True:\n",
    "            raise FileNotFoundError(f'Path {dbpath} is not Valid')\n",
    "        else:\n",
    "            cls.__db_path = dbpath\n",
    "\n",
    "    def search_db(self, query: Union[Tuple[str], List[Tuple[str]]]) -> Optional[int]:\n",
    "        if isinstance(query, list) is False:\n",
    "            query = [query]\n",
    "        query_lowercase = list(map(lambda x: x.lower(), query))\n",
    "        print(query_lowercase)\n",
    "        db_data=[]\n",
    "        with open(self.__db_path, 'r') as db_obj:\n",
    "            csv_reader = csv.reader(db_obj, delimiter=';')\n",
    "            for row in csv_reader:\n",
    "                db_data.append((str(row[0]).lower(), float(row[1])))\n",
    "        print(len(db_data))\n",
    "        #print(db_data[1])        \n",
    "        return list(filter(lambda x: x[0] in query_lowercase, db_data))"
   ]
  },
  {
   "cell_type": "code",
   "execution_count": 49,
   "id": "787df9c3",
   "metadata": {},
   "outputs": [
    {
     "name": "stdout",
     "output_type": "stream",
     "text": [
      "['xiaomi redmi 5']\n",
      "6870\n",
      "[('xiaomi redmi 5', 5.11)]\n"
     ]
    }
   ],
   "source": [
    "sensor_path = 'C:/Users/admin/Desktop/codespace/python/Structure-from-Motion/sfm/exif/sensordb.txt'\n",
    "SensorDB.set_db_path('C:/Users/admin/Desktop/codespace/python/Structure-from-Motion/sfm/exif/sensordb.txt')\n",
    "SensorDB.validate_db_path()\n",
    "db = SensorDB()\n",
    "x=db.search_db('Xiaomi Redmi 5')\n",
    "print(x)"
   ]
  },
  {
   "cell_type": "code",
   "execution_count": 45,
   "id": "1ae0af91",
   "metadata": {},
   "outputs": [
    {
     "name": "stdout",
     "output_type": "stream",
     "text": [
      "6870\n",
      "('acer ce-5430', 5.75)\n",
      "['acer ce-5430']\n",
      "[('acer ce-5430', 5.75)]\n"
     ]
    }
   ],
   "source": [
    "sensor_path = 'C:/Users/admin/Desktop/codespace/python/Structure-from-Motion/sfm/exif/sensordb.txt'\n",
    "db_data=[]\n",
    "with open(sensor_path, 'r') as db_obj:\n",
    "    csv_reader = csv.reader(db_obj, delimiter=';')\n",
    "    for row in csv_reader:\n",
    "        #print(row)\n",
    "        db_data.append((str(row[0]).lower(),float(row[1])))\n",
    "print(len(db_data))\n",
    "print(db_data[1])\n",
    "query = ['Acer CE-5430']\n",
    "query_lowercase = list(map(lambda x: x.lower(), query))\n",
    "print(query_lowercase)\n",
    "reult_data = list(filter(lambda x: x[0] in query_lowercase, db_data))\n",
    "print(reult_data)"
   ]
  },
  {
   "cell_type": "code",
   "execution_count": null,
   "id": "4697ebbc",
   "metadata": {},
   "outputs": [],
   "source": []
  }
 ],
 "metadata": {
  "kernelspec": {
   "display_name": "Python 3",
   "language": "python",
   "name": "python3"
  },
  "language_info": {
   "codemirror_mode": {
    "name": "ipython",
    "version": 3
   },
   "file_extension": ".py",
   "mimetype": "text/x-python",
   "name": "python",
   "nbconvert_exporter": "python",
   "pygments_lexer": "ipython3",
   "version": "3.9.5"
  },
  "toc": {
   "base_numbering": 1,
   "nav_menu": {},
   "number_sections": true,
   "sideBar": true,
   "skip_h1_title": false,
   "title_cell": "Table of Contents",
   "title_sidebar": "Contents",
   "toc_cell": false,
   "toc_position": {},
   "toc_section_display": true,
   "toc_window_display": false
  }
 },
 "nbformat": 4,
 "nbformat_minor": 5
}
