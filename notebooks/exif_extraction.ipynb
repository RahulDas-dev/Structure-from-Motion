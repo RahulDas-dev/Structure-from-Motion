{
 "cells": [
  {
   "cell_type": "code",
   "execution_count": 1,
   "id": "397ef33e",
   "metadata": {},
   "outputs": [],
   "source": [
    "import os\n",
    "\n",
    "from exif import Image"
   ]
  },
  {
   "cell_type": "code",
   "execution_count": 2,
   "id": "41a47974",
   "metadata": {},
   "outputs": [
    {
     "name": "stdout",
     "output_type": "stream",
     "text": [
      "files count 19\n"
     ]
    }
   ],
   "source": [
    "datadir='../dataset/box'\n",
    "\n",
    "if os.path.isdir(datadir) is not True:\n",
    "    raise NotADirectoryError(f'The Directory {datadir} not found')\n",
    "    \n",
    "files = [os.path.join(datadir,file ) for file in os.listdir(datadir)]\n",
    "\n",
    "print(f'files count {len(files)}')"
   ]
  },
  {
   "cell_type": "code",
   "execution_count": 3,
   "id": "2334eda6",
   "metadata": {},
   "outputs": [],
   "source": [
    "with open(files[0], 'rb') as image_file:\n",
    "    my_image = Image(image_file)\n"
   ]
  },
  {
   "cell_type": "code",
   "execution_count": 4,
   "id": "2958fb49",
   "metadata": {},
   "outputs": [
    {
     "name": "stdout",
     "output_type": "stream",
     "text": [
      "True\n"
     ]
    }
   ],
   "source": [
    "print(my_image.has_exif)"
   ]
  },
  {
   "cell_type": "code",
   "execution_count": 5,
   "id": "83282d93",
   "metadata": {},
   "outputs": [
    {
     "name": "stdout",
     "output_type": "stream",
     "text": [
      "['datetime', '_gps_ifd_pointer', 'model', 'y_and_c_positioning', 'resolution_unit', 'y_resolution', '_exif_ifd_pointer', 'x_resolution', 'make', 'jpeg_interchange_format_length', 'jpeg_interchange_format', 'compression', 'color_space', 'f_number', 'datetime_digitized', 'focal_length', 'aperture_value', 'exposure_mode', 'subsec_time_digitized', 'pixel_y_dimension', 'focal_length_in_35mm_film', 'scene_capture_type', 'scene_type', 'subsec_time_original', 'exposure_program', 'white_balance', 'pixel_x_dimension', 'subsec_time', 'shutter_speed_value', 'metering_mode', 'datetime_original', 'components_configuration', 'exif_version', 'flash', '_interoperability_ifd_Pointer', 'brightness_value', 'photographic_sensitivity', 'sensing_method', 'flashpix_version', 'exposure_time', 'gps_datestamp', 'gps_altitude_ref', 'gps_longitude_ref', 'gps_longitude', 'gps_processing_method', 'gps_latitude_ref', 'gps_timestamp', 'gps_altitude', 'gps_latitude']\n"
     ]
    }
   ],
   "source": [
    "print(my_image.list_all())"
   ]
  },
  {
   "cell_type": "code",
   "execution_count": 6,
   "id": "a622af8e",
   "metadata": {},
   "outputs": [
    {
     "name": "stdout",
     "output_type": "stream",
     "text": [
      "2020:03:28 17:27:13 065576 None\n",
      "2020:03:28 17:27:13 065576 None\n",
      "2020:03:28 17:27:13 065576 None\n",
      "2020:03:28 (11.0, 57.0, 6.0)\n"
     ]
    }
   ],
   "source": [
    "print(my_image.datetime,my_image.subsec_time,my_image.get('offset_time'))\n",
    "print(my_image.datetime_digitized,my_image.subsec_time_digitized,my_image.get('offset_time_digitized'))\n",
    "print(my_image.datetime_original,my_image.subsec_time,my_image.get('offset_time_original'))\n",
    "print(my_image.gps_datestamp, my_image.gps_timestamp)\n"
   ]
  },
  {
   "cell_type": "code",
   "execution_count": 24,
   "id": "f99e5d29",
   "metadata": {},
   "outputs": [
    {
     "name": "stdout",
     "output_type": "stream",
     "text": [
      "(22.0, 34.0, 8.8892) N None\n"
     ]
    }
   ],
   "source": [
    "print(my_image.gps_latitude, my_image.gps_latitude_ref, my_image.get(\"gps_dop\"))  "
   ]
  },
  {
   "cell_type": "code",
   "execution_count": 9,
   "id": "f384e2fa",
   "metadata": {},
   "outputs": [
    {
     "name": "stdout",
     "output_type": "stream",
     "text": [
      "Redmi 4 Xiaomi\n",
      "None None\n"
     ]
    }
   ],
   "source": [
    "print(my_image.model, my_image.make)  \n",
    "print(my_image.get(\"lens_model\"),my_image.get(\"lens_make\"))"
   ]
  },
  {
   "cell_type": "code",
   "execution_count": 11,
   "id": "b5ab6598",
   "metadata": {},
   "outputs": [
    {
     "name": "stdout",
     "output_type": "stream",
     "text": [
      "72.0 72.0\n",
      "4160 2340\n"
     ]
    }
   ],
   "source": [
    "print(my_image.x_resolution, my_image.y_resolution)  \n",
    "print(my_image.pixel_y_dimension,my_image.pixel_x_dimension)"
   ]
  },
  {
   "cell_type": "code",
   "execution_count": 19,
   "id": "44f5858a",
   "metadata": {},
   "outputs": [
    {
     "name": "stdout",
     "output_type": "stream",
     "text": [
      "4.12 ResolutionUnit.INCHES 0 0\n",
      "None None None\n"
     ]
    }
   ],
   "source": [
    "print(my_image.focal_length, my_image.resolution_unit, my_image.focal_length_in_35mm_film, my_image.get(\"focal_length_in_35mm_film\") ) \n",
    "print(my_image.get(\"focal_plane_resolution_unit\"),my_image.get(\"focal_plane_x_resolution\"),my_image.get(\"focal_plane_y_resolution\"))"
   ]
  },
  {
   "cell_type": "code",
   "execution_count": 22,
   "id": "de7f94e1",
   "metadata": {},
   "outputs": [
    {
     "name": "stdout",
     "output_type": "stream",
     "text": [
      "ResolutionUnit.INCHES\n"
     ]
    }
   ],
   "source": [
    "print(my_image.get(\"resolution_unit\"))"
   ]
  },
  {
   "cell_type": "code",
   "execution_count": null,
   "id": "9ebf57a6",
   "metadata": {},
   "outputs": [],
   "source": []
  }
 ],
 "metadata": {
  "kernelspec": {
   "display_name": "Python 3",
   "language": "python",
   "name": "python3"
  },
  "language_info": {
   "codemirror_mode": {
    "name": "ipython",
    "version": 3
   },
   "file_extension": ".py",
   "mimetype": "text/x-python",
   "name": "python",
   "nbconvert_exporter": "python",
   "pygments_lexer": "ipython3",
   "version": "3.9.5"
  },
  "toc": {
   "base_numbering": 1,
   "nav_menu": {},
   "number_sections": true,
   "sideBar": true,
   "skip_h1_title": false,
   "title_cell": "Table of Contents",
   "title_sidebar": "Contents",
   "toc_cell": false,
   "toc_position": {},
   "toc_section_display": true,
   "toc_window_display": false
  }
 },
 "nbformat": 4,
 "nbformat_minor": 5
}
