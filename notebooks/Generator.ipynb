{
 "cells": [
  {
   "cell_type": "code",
   "execution_count": 1,
   "id": "47b4b5c1",
   "metadata": {},
   "outputs": [],
   "source": [
    "import os"
   ]
  },
  {
   "cell_type": "code",
   "execution_count": 2,
   "id": "c2f1c3eb",
   "metadata": {},
   "outputs": [
    {
     "data": {
      "text/plain": [
       "['IMG_20200328_172713.jpg',\n",
       " 'IMG_20200328_172726.jpg',\n",
       " 'IMG_20200328_172739.jpg',\n",
       " 'IMG_20200328_172754.jpg',\n",
       " 'IMG_20200328_172806.jpg',\n",
       " 'IMG_20200328_172819.jpg',\n",
       " 'IMG_20200328_172829.jpg',\n",
       " 'IMG_20200328_172841.jpg',\n",
       " 'IMG_20200328_172851.jpg',\n",
       " 'IMG_20200328_172858.jpg',\n",
       " 'IMG_20200328_172906.jpg',\n",
       " 'IMG_20200328_172912.jpg',\n",
       " 'IMG_20200328_172919.jpg',\n",
       " 'IMG_20200328_172924.jpg',\n",
       " 'IMG_20200328_173044.jpg',\n",
       " 'IMG_20200328_173053.jpg',\n",
       " 'IMG_20200328_173059.jpg',\n",
       " 'IMG_20200328_173106.jpg',\n",
       " 'IMG_20200328_173114.jpg']"
      ]
     },
     "execution_count": 2,
     "metadata": {},
     "output_type": "execute_result"
    }
   ],
   "source": [
    "data_path ='../dataset/box'\n",
    "\n",
    "os.listdir(data_path)"
   ]
  },
  {
   "cell_type": "code",
   "execution_count": 3,
   "id": "e1087b2c",
   "metadata": {},
   "outputs": [],
   "source": [
    "class Datasetgenerator:\n",
    "    \n",
    "    def __init__(self, path_):\n",
    "        self.path = path_\n",
    "    \n",
    "    def __iter__(self):\n",
    "        return self\n",
    "\n",
    "    def __next__(self):\n",
    "        for p in os.listdir(self.path):\n",
    "            yield p\n",
    "            \n",
    "\n",
    "def datasetGen(path_):\n",
    "    for p in os.listdir(path_):\n",
    "        yield p"
   ]
  },
  {
   "cell_type": "code",
   "execution_count": 4,
   "id": "9cc43a30",
   "metadata": {},
   "outputs": [
    {
     "name": "stdout",
     "output_type": "stream",
     "text": [
      "IMG_20200328_172713.jpg\n",
      "IMG_20200328_172726.jpg\n",
      "IMG_20200328_172739.jpg\n",
      "IMG_20200328_172754.jpg\n",
      "IMG_20200328_172806.jpg\n",
      "IMG_20200328_172819.jpg\n",
      "IMG_20200328_172829.jpg\n",
      "IMG_20200328_172841.jpg\n",
      "IMG_20200328_172851.jpg\n",
      "IMG_20200328_172858.jpg\n",
      "IMG_20200328_172906.jpg\n",
      "IMG_20200328_172912.jpg\n",
      "IMG_20200328_172919.jpg\n",
      "IMG_20200328_172924.jpg\n",
      "IMG_20200328_173044.jpg\n",
      "IMG_20200328_173053.jpg\n",
      "IMG_20200328_173059.jpg\n",
      "IMG_20200328_173106.jpg\n",
      "IMG_20200328_173114.jpg\n"
     ]
    }
   ],
   "source": [
    "g = datasetGen(data_path)\n",
    "\n",
    "for i in g:\n",
    "    print(i)"
   ]
  },
  {
   "cell_type": "code",
   "execution_count": 9,
   "id": "bdb70094",
   "metadata": {},
   "outputs": [
    {
     "name": "stdout",
     "output_type": "stream",
     "text": [
      "filename.hjb ['filename', 'hjb']\n"
     ]
    }
   ],
   "source": [
    "baseName = os.path.basename('filename.hjb.png').split(\".\")[:-1]\n",
    "\n",
    "print(\".\".join(baseName), baseName)"
   ]
  },
  {
   "cell_type": "code",
   "execution_count": null,
   "id": "1dba739c",
   "metadata": {},
   "outputs": [],
   "source": []
  }
 ],
 "metadata": {
  "kernelspec": {
   "display_name": "sfm",
   "language": "python",
   "name": "sfm"
  },
  "language_info": {
   "codemirror_mode": {
    "name": "ipython",
    "version": 3
   },
   "file_extension": ".py",
   "mimetype": "text/x-python",
   "name": "python",
   "nbconvert_exporter": "python",
   "pygments_lexer": "ipython3",
   "version": "3.9.5"
  },
  "toc": {
   "base_numbering": 1,
   "nav_menu": {},
   "number_sections": true,
   "sideBar": true,
   "skip_h1_title": false,
   "title_cell": "Table of Contents",
   "title_sidebar": "Contents",
   "toc_cell": false,
   "toc_position": {},
   "toc_section_display": true,
   "toc_window_display": false
  }
 },
 "nbformat": 4,
 "nbformat_minor": 5
}
