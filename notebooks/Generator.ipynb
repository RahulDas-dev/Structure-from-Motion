{
 "cells": [
  {
   "cell_type": "code",
   "execution_count": 1,
   "id": "47b4b5c1",
   "metadata": {},
   "outputs": [],
   "source": [
    "import os"
   ]
  },
  {
   "cell_type": "code",
   "execution_count": 2,
   "id": "c2f1c3eb",
   "metadata": {},
   "outputs": [
    {
     "data": {
      "text/plain": [
       "['IMG_20200328_172713.jpg',\n",
       " 'IMG_20200328_172726.jpg',\n",
       " 'IMG_20200328_172739.jpg',\n",
       " 'IMG_20200328_172754.jpg',\n",
       " 'IMG_20200328_172806.jpg',\n",
       " 'IMG_20200328_172819.jpg',\n",
       " 'IMG_20200328_172829.jpg',\n",
       " 'IMG_20200328_172841.jpg',\n",
       " 'IMG_20200328_172851.jpg',\n",
       " 'IMG_20200328_172858.jpg',\n",
       " 'IMG_20200328_172906.jpg',\n",
       " 'IMG_20200328_172912.jpg',\n",
       " 'IMG_20200328_172919.jpg',\n",
       " 'IMG_20200328_172924.jpg',\n",
       " 'IMG_20200328_173044.jpg',\n",
       " 'IMG_20200328_173053.jpg',\n",
       " 'IMG_20200328_173059.jpg',\n",
       " 'IMG_20200328_173106.jpg',\n",
       " 'IMG_20200328_173114.jpg']"
      ]
     },
     "execution_count": 2,
     "metadata": {},
     "output_type": "execute_result"
    }
   ],
   "source": [
    "data_path ='../dataset/box'\n",
    "\n",
    "os.listdir(data_path)"
   ]
  },
  {
   "cell_type": "code",
   "execution_count": 12,
   "id": "e1087b2c",
   "metadata": {},
   "outputs": [],
   "source": [
    "class Datasetgenerator:\n",
    "    \n",
    "    def __init__(self, path_,ext):\n",
    "        self.index = 0\n",
    "        self.path = path_\n",
    "        self.max_len = len(os.listdir(path_))\n",
    "    \n",
    "    def __iter__(self):\n",
    "        self.index = 0\n",
    "        return self\n",
    "\n",
    "    def __next__(self):\n",
    "        if self.index < self.max_len:\n",
    "            return_value = os.listdir(self.path)[self.index]\n",
    "            self.index += 1\n",
    "            return return_value\n",
    "        else:\n",
    "            raise StopIteration\n",
    "\n",
    "def datasetGen(path_):\n",
    "    for p in os.listdir(path_):\n",
    "        yield p"
   ]
  },
  {
   "cell_type": "code",
   "execution_count": 29,
   "id": "bdb70094",
   "metadata": {},
   "outputs": [],
   "source": [
    "from typing import List\n",
    "\n",
    "class DatasetGenerator:\n",
    "    \"\"\"Data Set Loader.\"\"\"\n",
    "\n",
    "    __extension: str\n",
    "    __image_dir: str\n",
    "    __image_list: List[str]\n",
    "    __index: int\n",
    "    __size: int\n",
    "\n",
    "    __slots__ = \"__extension\", \"__image_list\", \"__image_dir\", \"__index\", \"__size\"\n",
    "\n",
    "    def __init__(self, image_dir: str, extension: str):\n",
    "        \"\"\"Dataset Object Initialaztion.\n",
    "\n",
    "        Populating __images from list of image present in image_dir with\n",
    "        valid extension matches to __extension\n",
    "        \"\"\"\n",
    "        self.__image_dir = image_dir\n",
    "        self.__extension = extension\n",
    "        self.__index = 0\n",
    "        self.__image_list = list(filter(lambda x: x.split(\".\")[-1] == extension, os.listdir(image_dir)))\n",
    "        self.__size = len(self.__image_list)\n",
    "\n",
    "    def __iter__(self):\n",
    "        self.__index = 0\n",
    "        return self\n",
    "\n",
    "    def __next__(self):\n",
    "        if self.__index < self.__size:\n",
    "            file = self.__image_list[self.__index]\n",
    "            #image_path = os.path.join(self.__image_dir, file)\n",
    "            #image = cv2.imread(image_path)\n",
    "            ##h, w = image.shape[:2]\n",
    "            #c = 1 if image.ndim == 2 else image.shape[-1]\n",
    "            img_id = f\"IMAGE_{self.__index + 1:03d}\"\n",
    "            #return_value = ImageInfo(file=image_path, imgid=img_id, height=h, width=w, channel=c)\n",
    "            self.__index += 1\n",
    "            return file,img_id\n",
    "        else:\n",
    "            raise StopIteration\n",
    "\n",
    "\n",
    "\n",
    "def dataset_generator(image_dir: str, extension: str):\n",
    "    image_list = list(filter(lambda x: x.split(\".\")[-1] == extension, os.listdir(image_dir)))\n",
    "    for index, file in enumerate(image_list):\n",
    "        #image_path = os.path.join(image_dir, file)\n",
    "        #image = cv2.imread(image_path)\n",
    "        img_id = img_id = f\"IMAGE_{index+1:03d}\"\n",
    "        #h, w = image.shape[:2]\n",
    "        #c = 1 if image.ndim == 2 else image.shape[-1]\n",
    "        yield file,img_id\n",
    "            "
   ]
  },
  {
   "cell_type": "code",
   "execution_count": 30,
   "id": "1dba739c",
   "metadata": {},
   "outputs": [
    {
     "name": "stdout",
     "output_type": "stream",
     "text": [
      "('IMG_20200328_172713.jpg', 'IMAGE_001')\n",
      "('IMG_20200328_172726.jpg', 'IMAGE_002')\n",
      "('IMG_20200328_172739.jpg', 'IMAGE_003')\n",
      "('IMG_20200328_172754.jpg', 'IMAGE_004')\n",
      "('IMG_20200328_172806.jpg', 'IMAGE_005')\n",
      "('IMG_20200328_172819.jpg', 'IMAGE_006')\n",
      "('IMG_20200328_172829.jpg', 'IMAGE_007')\n",
      "('IMG_20200328_172841.jpg', 'IMAGE_008')\n",
      "('IMG_20200328_172851.jpg', 'IMAGE_009')\n",
      "('IMG_20200328_172858.jpg', 'IMAGE_010')\n",
      "('IMG_20200328_172906.jpg', 'IMAGE_011')\n",
      "('IMG_20200328_172912.jpg', 'IMAGE_012')\n",
      "('IMG_20200328_172919.jpg', 'IMAGE_013')\n",
      "('IMG_20200328_172924.jpg', 'IMAGE_014')\n",
      "('IMG_20200328_173044.jpg', 'IMAGE_015')\n",
      "('IMG_20200328_173053.jpg', 'IMAGE_016')\n",
      "('IMG_20200328_173059.jpg', 'IMAGE_017')\n",
      "('IMG_20200328_173106.jpg', 'IMAGE_018')\n",
      "('IMG_20200328_173114.jpg', 'IMAGE_019')\n"
     ]
    }
   ],
   "source": [
    "for i in dataset_generator(data_path,'jpg'):\n",
    "    print(i)"
   ]
  },
  {
   "cell_type": "code",
   "execution_count": 34,
   "id": "1d37f37b",
   "metadata": {},
   "outputs": [
    {
     "name": "stdout",
     "output_type": "stream",
     "text": [
      "<class 'sqlite3.Row'>\n"
     ]
    }
   ],
   "source": [
    "import sqlite3\n",
    "con = sqlite3.connect(os.path.join(data_path,\"db.sqlite3\"))\n",
    "print(sqlite3.Row)"
   ]
  },
  {
   "cell_type": "code",
   "execution_count": null,
   "id": "9bdc10f5",
   "metadata": {},
   "outputs": [],
   "source": []
  }
 ],
 "metadata": {
  "kernelspec": {
   "display_name": "sfm",
   "language": "python",
   "name": "sfm"
  },
  "language_info": {
   "codemirror_mode": {
    "name": "ipython",
    "version": 3
   },
   "file_extension": ".py",
   "mimetype": "text/x-python",
   "name": "python",
   "nbconvert_exporter": "python",
   "pygments_lexer": "ipython3",
   "version": "3.9.5"
  },
  "toc": {
   "base_numbering": 1,
   "nav_menu": {},
   "number_sections": true,
   "sideBar": true,
   "skip_h1_title": false,
   "title_cell": "Table of Contents",
   "title_sidebar": "Contents",
   "toc_cell": false,
   "toc_position": {},
   "toc_section_display": true,
   "toc_window_display": false
  }
 },
 "nbformat": 4,
 "nbformat_minor": 5
}
